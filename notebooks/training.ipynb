{
 "cells": [
  {
   "cell_type": "markdown",
   "metadata": {},
   "source": [
    "<h1 id=\"intro\">Introduction - Model Training Walkthrough</h1>\n",
    "- Author: Myles Dunlap\n",
    "\n",
    "\n",
    "This notebook is used to train a model using a single configuration file. Additional pre-training tasks are provided as well as further analysis techniques for model selection.\n",
    "\n",
    "## Table of Contents\n",
    "- [User Inputs](#user-inputs)\n",
    "- [Import Libraries and Modules](#import-libs)\n",
    "- [Load Config. and Setup](#config)\n",
    "- [Workflow](#workflow)\n",
    "- [Pre-process Target](#preprocess-target)\n",
    "- [Tokenizer and Collator](#tokenizer)\n",
    "- [Datasets and DataLoaders](#datasets)\n",
    "- [Learning Rate Finder and Scheduler](#lr)\n",
    "- [Train the Model](#training)\n",
    "- [Visualize Learning Curves](#learning-curves)\n",
    "- [Model Selection and Experimenting](#model-selection)\n",
    "- [Experiment Tracking Tools](#exp-track)\n"
   ]
  },
  {
   "cell_type": "markdown",
   "metadata": {},
   "source": [
    "<h1 id=\"user-inputs\">User Inputs</h1>\n",
    "\n",
    "##### [Return To Top](#intro)"
   ]
  },
  {
   "cell_type": "code",
   "execution_count": 1,
   "metadata": {},
   "outputs": [],
   "source": [
    "# Append the path for the custom modules\n",
    "path_custom_modules = '../'\n",
    "\n",
    "# Path to the YAML config. file\n",
    "path_cfg = {'base_dir': '../cfgs',\n",
    "            'filename': 'train-0-notebook.yaml'}"
   ]
  },
  {
   "cell_type": "markdown",
   "metadata": {},
   "source": [
    "<h1 id=\"import-libs\">Import Libraries and Modules</h1>\n",
    "\n",
    "##### [Return To Top](#intro)"
   ]
  },
  {
   "cell_type": "code",
   "execution_count": 2,
   "metadata": {},
   "outputs": [],
   "source": [
    "# Libraries\n",
    "import os\n",
    "import sys\n",
    "from pathlib import Path\n",
    "import gc\n",
    "from transformers import AutoTokenizer\n",
    "import torch\n",
    "\n",
    "# Append Path to Custom Modules if Needed\n",
    "sys.path.append('../')\n",
    "\n",
    "# Custom Modules\n",
    "from src.utils import (seed_everything,\n",
    "                       load_cfg,\n",
    "                       RunIDs)\n",
    "from src.dataloading.load_data import LoadData\n",
    "from src.dataloading.stratify import StratifyData\n",
    "from src.dataloading.preprocess import PreprocessData\n",
    "from src.dataloading.load_datasets import (CustomTextCollator,\n",
    "                                           get_ds_dl,\n",
    "                                           )\n",
    "from src.training.single_fold import train_fold\n",
    "from src.training.single_fold import train_fold\n",
    "\n",
    "# Setup HF env. variables\n",
    "os.environ['TRANSFORMERS_OFFLINE'] = '1'\n",
    "os.environ['TOKENIZERS_PARALLELISM'] = 'True'\n",
    "os.environ['TRANSFORMERS_NO_ADVISORY_WARNINGS'] = 'true'"
   ]
  },
  {
   "cell_type": "markdown",
   "metadata": {},
   "source": [
    "<h1 id=\"config\">Load Config. and Setup</h1>\n",
    "\n",
    "This section if focused on:\n",
    "- loading the config. file,\n",
    "- setting up directories for saving results, \n",
    "- seeding.\n",
    "\n",
    "##### [Return To Top](#intro)"
   ]
  },
  {
   "cell_type": "code",
   "execution_count": 3,
   "metadata": {},
   "outputs": [
    {
     "name": "stdout",
     "output_type": "stream",
     "text": [
      "Group ID: da44f4c8\n",
      "ID for Testing Fold #1: 40a7990e\n",
      "\tFull/Entire ID: da44f4c8-40a7990e\n"
     ]
    }
   ],
   "source": [
    "# Seed Everything\n",
    "SEED = 42\n",
    "seed_everything(seed=SEED)\n",
    "\n",
    "# Get Device type for processing\n",
    "DEVICE = torch.device('cuda' if torch.cuda.is_available() else 'cpu')\n",
    "\n",
    "# Load the configuration file\n",
    "CFG = load_cfg(base_dir=Path(path_cfg['base_dir']),\n",
    "               filename=path_cfg['filename'])\n",
    "\n",
    "# Create directories for saving results and use unique Group ID\n",
    "run_ids = RunIDs(test_folds=CFG.cv.val_folds,\n",
    "                    num_folds=CFG.cv.num_folds,\n",
    "                    save_dir=CFG.paths.save_results.base_dir,\n",
    "                    save_results=CFG.paths.save_results.apply_metric)\n",
    "run_ids.generate_run_ids()\n",
    "\n",
    "# Print the group id and ids for each fold\n",
    "print(f'Group ID: {run_ids.group_id}')\n",
    "for fold_num in CFG.cv.val_folds:\n",
    "    fold_id = getattr(run_ids.folds_id,\n",
    "                      f'fold{fold_num}').run_id\n",
    "    entire_id = f'{run_ids.group_id}-{fold_id}' \n",
    "    print((f'ID for Testing Fold #{fold_num}: '\n",
    "           f'{fold_id}\\n\\tFull/Entire ID: {entire_id}'))"
   ]
  },
  {
   "cell_type": "markdown",
   "metadata": {},
   "source": [
    "<h1 id=\"workflow\">Workflow</h1>\n",
    "\n",
    "The primary workflow begins in this section. Notice that prior to this section the key piece of information obtained is the configuration file. If multiple configurations needed to be processed this would be the entry point for those configuration files. For example, in the [training Python script](../scripts/train_model.py) for automating over various configuration files the workflow section is introduced with the `workflow` function.\n",
    "\n",
    "Note: Only one fold of data will be analyzed in the notebook since this is for demonstration purposes. In the [training Python script](../scripts/train_model.py) all folds are trained.\n",
    "\n",
    "##### [Return To Top](#intro)"
   ]
  },
  {
   "cell_type": "code",
   "execution_count": 4,
   "metadata": {},
   "outputs": [
    {
     "data": {
      "text/html": [
       "<div>\n",
       "<style scoped>\n",
       "    .dataframe tbody tr th:only-of-type {\n",
       "        vertical-align: middle;\n",
       "    }\n",
       "\n",
       "    .dataframe tbody tr th {\n",
       "        vertical-align: top;\n",
       "    }\n",
       "\n",
       "    .dataframe thead th {\n",
       "        text-align: right;\n",
       "    }\n",
       "</style>\n",
       "<table border=\"1\" class=\"dataframe\">\n",
       "  <thead>\n",
       "    <tr style=\"text-align: right;\">\n",
       "      <th></th>\n",
       "      <th>Consumer complaint narrative</th>\n",
       "      <th>ZIP code</th>\n",
       "      <th>Sub-issue</th>\n",
       "      <th>Product</th>\n",
       "      <th>fold</th>\n",
       "    </tr>\n",
       "  </thead>\n",
       "  <tbody>\n",
       "    <tr>\n",
       "      <th>0</th>\n",
       "      <td>I became in contact with th fraud Dept of TOTA...</td>\n",
       "      <td>836XX</td>\n",
       "      <td>Card was charged for something you did not pur...</td>\n",
       "      <td>Credit card or prepaid card</td>\n",
       "      <td>1</td>\n",
       "    </tr>\n",
       "    <tr>\n",
       "      <th>1</th>\n",
       "      <td>I attended college from XX/XX/XXXX through XX/...</td>\n",
       "      <td>787XX</td>\n",
       "      <td>Don't agree with the fees charged</td>\n",
       "      <td>Student loan</td>\n",
       "      <td>1</td>\n",
       "    </tr>\n",
       "    <tr>\n",
       "      <th>2</th>\n",
       "      <td>I recently paid off my automotive account off ...</td>\n",
       "      <td>94142</td>\n",
       "      <td>Account status</td>\n",
       "      <td>Credit reporting</td>\n",
       "      <td>1</td>\n",
       "    </tr>\n",
       "    <tr>\n",
       "      <th>3</th>\n",
       "      <td>WITH MIDLAND CREDIT THAT IS A THIRD PARTY COMP...</td>\n",
       "      <td>301XX</td>\n",
       "      <td>Debt was result of identity theft</td>\n",
       "      <td>Debt collection</td>\n",
       "      <td>1</td>\n",
       "    </tr>\n",
       "    <tr>\n",
       "      <th>4</th>\n",
       "      <td>I contacted Toyota financial services to dispu...</td>\n",
       "      <td>900XX</td>\n",
       "      <td>Account status incorrect</td>\n",
       "      <td>Vehicle loan or lease</td>\n",
       "      <td>1</td>\n",
       "    </tr>\n",
       "  </tbody>\n",
       "</table>\n",
       "</div>"
      ],
      "text/plain": [
       "                        Consumer complaint narrative ZIP code  \\\n",
       "0  I became in contact with th fraud Dept of TOTA...    836XX   \n",
       "1  I attended college from XX/XX/XXXX through XX/...    787XX   \n",
       "2  I recently paid off my automotive account off ...    94142   \n",
       "3  WITH MIDLAND CREDIT THAT IS A THIRD PARTY COMP...    301XX   \n",
       "4  I contacted Toyota financial services to dispu...    900XX   \n",
       "\n",
       "                                           Sub-issue  \\\n",
       "0  Card was charged for something you did not pur...   \n",
       "1                  Don't agree with the fees charged   \n",
       "2                                     Account status   \n",
       "3                  Debt was result of identity theft   \n",
       "4                           Account status incorrect   \n",
       "\n",
       "                       Product  fold  \n",
       "0  Credit card or prepaid card     1  \n",
       "1                 Student loan     1  \n",
       "2             Credit reporting     1  \n",
       "3              Debt collection     1  \n",
       "4        Vehicle loan or lease     1  "
      ]
     },
     "metadata": {},
     "output_type": "display_data"
    },
    {
     "name": "stdout",
     "output_type": "stream",
     "text": [
      "Distribution of a Product for Each Fold\n",
      "Notice how the quantities are evenly distributed across folds\n"
     ]
    },
    {
     "data": {
      "text/plain": [
       "Product                      fold\n",
       "Credit card or prepaid card  1       500\n",
       "                             2       500\n",
       "Credit reporting             1       500\n",
       "                             2       500\n",
       "Debt collection              1       500\n",
       "Name: count, dtype: int64"
      ]
     },
     "metadata": {},
     "output_type": "display_data"
    }
   ],
   "source": [
    "# Load Data from Disk\n",
    "load_data_file = LoadData(base_dir=CFG.paths.data.base_dir)\n",
    "data = load_data_file.load(filename=CFG.paths.data.data)\n",
    "\n",
    "# Stratify the Data\n",
    "data = (StratifyData(technique=CFG.stratify.technique,\n",
    "                     n_folds=CFG.cv.num_folds,\n",
    "                     target=CFG.data_info.target)\n",
    "        .stratify(df=data))\n",
    "\n",
    "# Input and target field names\n",
    "cols = CFG.data_info.source_fields + \\\n",
    "       [CFG.data_info.target, 'fold']\n",
    "\n",
    "# Train a model for one validation fold\n",
    "fold_num = CFG.cv.val_folds[0]\n",
    "\n",
    "# Print information\n",
    "display(data[cols].head(5))\n",
    "print(f'Distribution of a Product for Each Fold')\n",
    "print(f'Notice how the quantities are evenly distributed across folds')\n",
    "display(data.groupby('Product').fold.value_counts()\n",
    "        .sort_index().head(5))"
   ]
  },
  {
   "cell_type": "code",
   "execution_count": 5,
   "metadata": {},
   "outputs": [
    {
     "name": "stdout",
     "output_type": "stream",
     "text": [
      "Number of Instances:\n",
      "\tTrain: 2,500\n",
      "\tVal.: 2,500\n"
     ]
    }
   ],
   "source": [
    "# Split Data into Training and Validation\n",
    "df_train = data.copy()[data.fold != fold_num].reset_index(drop=True)\n",
    "df_val = data.copy()[data.fold == fold_num].reset_index(drop=True)\n",
    "print('Number of Instances:')\n",
    "print(f'\\tTrain: {len(df_train):,}')\n",
    "print(f'\\tVal.: {len(df_val):,}')"
   ]
  },
  {
   "cell_type": "markdown",
   "metadata": {},
   "source": [
    "<h1 id=\"preprocess-target\">Pre-process Target</h1>\n",
    "\n",
    "Convert the text target into a label."
   ]
  },
  {
   "cell_type": "code",
   "execution_count": 6,
   "metadata": {},
   "outputs": [
    {
     "name": "stdout",
     "output_type": "stream",
     "text": [
      "{'Product': {'encoder': LabelEncoder(), 'technique': 'LabelEncoder'}}\n"
     ]
    }
   ],
   "source": [
    "# Preprocessing Encoders\n",
    "encoders = {}\n",
    "for technique in CFG.preprocessing.apply_techniques:\n",
    "    fields = getattr(CFG.preprocessing, technique).fields\n",
    "    for col in fields:\n",
    "        enc = PreprocessData(y=df_train[col].values,\n",
    "                            technique=technique)\n",
    "        encoders[col] = {'encoder': enc.encoder,\n",
    "                        'technique': technique}\n",
    "print(encoders)"
   ]
  },
  {
   "cell_type": "markdown",
   "metadata": {},
   "source": [
    "<h1 id=\"tokenizer\">Tokenizer and Collator</h1>\n",
    "\n",
    "A collator is an object that forms a batch of data by using a list of dataset elements as inputs. \n",
    "\n",
    "The module [load_datasets.py](../src/dataloading/load_datasets.py) has a custom collator class used here and it has several benefits such as:\n",
    "- The data does **NOT** have to be tokenized prior to being passed to the PyTorch DataLoader class. Lots of online examples show the data already tokenized before going into a dataloader. Using the approach in this repo. means the text data is tokenized once a batch of data is processed in the DataLoader class and it allows for RAM usage to stay lower. For example, if your dataset exceeds the available RAM size then tokenizing all the data prior to the DataLoader (e.g., in the Dataset class) could become problematic.\n",
    "- Using a custom collator enables dynamic padding over the batches. Later the maximum token length for a few batches will be printed to illustrate dynamic padding. This ultimately leads to faster processing of data as explained in this [HuggingFace YouTube video](https://www.youtube.com/watch?v=7q5NyFT8REg).\n",
    "\n",
    "##### [Return To Top](#intro)"
   ]
  },
  {
   "cell_type": "code",
   "execution_count": 7,
   "metadata": {},
   "outputs": [],
   "source": [
    "# Path to the model and tokenizer model card saved on disk\n",
    "model_path = Path(CFG.model_tokenizer.base_dir) / CFG.model_tokenizer.name\n",
    "\n",
    "# Load the tokenizer\n",
    "tokenizer = AutoTokenizer.from_pretrained(model_path, do_lower=True)\n",
    "\n",
    "# Collator\n",
    "collator = CustomTextCollator(tokenizer=tokenizer,\n",
    "                              tokenizer_cfg=CFG.tokenizer)"
   ]
  },
  {
   "cell_type": "markdown",
   "metadata": {},
   "source": [
    "<h1 id=\"datasets\">Datasets and DataLoaders</h1>\n",
    "## Combine Mixed data type fields\n",
    "\n",
    "In this [blob post by Chris McCormick](https://mccormickml.com/2021/06/29/combining-categorical-numerical-features-with-bert/) an interesting approach was taken to combine mixed data types which was to convert all categorical and numerical into the text feed into the LLM. This technique is used in this repository as shown in the `TrainDataset` class in the module [load_dataset.py](../src/dataloading/load_datasets.py). \n",
    "\n",
    "Another approach is only pass the unstructured text into the LLM, take its last layer output and combine with the other mixed data types into a dense layer. This type of approach seems more common and an example can be found on [Google Colab here](https://colab.research.google.com/drive/1F7COnwHqcLDPg_SS-oFgW3c2GPDWnS5Y#scrollTo=BAQFbN-wBpoz).\n",
    "\n",
    "As a reminder this data has `categorical` and `unstructued` input fields that will be combined. More information on these variables can be found in the [eda.ipynb](./eda.ipynb) notebook and summarized below for convenience:\n",
    "\n",
    "- Number of Independent variables = 3\n",
    "    - `Consumer complaint narrative`: string of unstructured text and all instances are unique \n",
    "    - `ZIP code`: a categorical variable with high cardinality (i.e., > 20K unique values)\n",
    "    - `Sub-issues`: a categorical variable with 63 unique values\n",
    "- Dependent Variable = `Product`\n",
    "    - `Product`: categorical with 5 unique values\n",
    "\n",
    "##### [Return To Top](#intro)"
   ]
  },
  {
   "cell_type": "code",
   "execution_count": 8,
   "metadata": {},
   "outputs": [
    {
     "name": "stdout",
     "output_type": "stream",
     "text": [
      "# of Training Samples: 2,500\n",
      "# of Validation Samples: 2,500\n",
      "Batch Size: 16\n",
      "2,500 \\ 16 = 157\n",
      "Train DataLoader # of Iters: 157\n",
      "Val. DataLoader # of Iters: 157\n",
      "\n",
      "Dynamic Padding\n",
      "\tThe shape is [batch size, maximum token length]\n",
      "Batch 1 of 157: torch.Size([16, 482])\n",
      "Batch 2 of 157: torch.Size([16, 512])\n",
      "Batch 3 of 157: torch.Size([16, 512])\n",
      "Batch 4 of 157: torch.Size([16, 512])\n",
      "Batch 5 of 157: torch.Size([16, 512])\n",
      "Batch 6 of 157: torch.Size([16, 512])\n",
      "Batch 7 of 157: torch.Size([16, 512])\n",
      "Batch 8 of 157: torch.Size([16, 512])\n",
      "Batch 9 of 157: torch.Size([16, 512])\n",
      "Batch 10 of 157: torch.Size([16, 512])\n",
      "Batch 11 of 157: torch.Size([16, 454])\n",
      "Batch of data keys:\n",
      "dict_keys(['input_ids', 'token_type_ids', 'attention_mask', 'labels'])\n"
     ]
    }
   ],
   "source": [
    "# Train Dataset and Dataloader\n",
    "(_,\n",
    "train_dataloader) = get_ds_dl(df=df_train,\n",
    "                              cfg=CFG,\n",
    "                              tokenizer=tokenizer,\n",
    "                              encoder=encoders[CFG.data_info.target]['encoder'],\n",
    "                              collator=collator)\n",
    "# Validation Dataset and Dataloader\n",
    "(_,\n",
    "val_dataloader) = get_ds_dl(df=df_val,\n",
    "                            cfg=CFG,\n",
    "                            tokenizer=tokenizer,\n",
    "                            encoder=encoders[CFG.data_info.target]['encoder'],\n",
    "                            collator=collator)\n",
    "\n",
    "print(f'# of Training Samples: {len(df_train):,}')\n",
    "print(f'# of Validation Samples: {len(df_val):,}')\n",
    "print(f'Batch Size: {CFG.batch_size}')\n",
    "print(f'{len(df_train):,} \\ {CFG.batch_size:,} = {len(train_dataloader):,}')\n",
    "print(f'Train DataLoader # of Iters: {len(train_dataloader):,}')\n",
    "print(f'Val. DataLoader # of Iters: {len(val_dataloader):,}')\n",
    "\n",
    "# Dynamic Padding of Maximum Token Lengths\n",
    "print(f'\\nDynamic Padding\\n\\tThe shape is [batch size, maximum token length]')\n",
    "for i, inputs in enumerate(train_dataloader):\n",
    "    if i > 10:\n",
    "        break\n",
    "    else:\n",
    "        print((f'Batch {i + 1} of {len(train_dataloader):,}: '\n",
    "               f'{inputs[\"input_ids\"].shape}'))\n",
    "\n",
    "# Display output from dataloader\n",
    "print(f'Batch of data keys:\\n{inputs.keys()}')"
   ]
  },
  {
   "cell_type": "markdown",
   "metadata": {},
   "source": [
    "The dynamic padding is shown above and notice that the maximum token length for some batches is < 512. Using dynamic padding allows for faster training and inference."
   ]
  },
  {
   "cell_type": "markdown",
   "metadata": {},
   "source": [
    "<h1 id=\"lr\">Learning Rate Finder and Scheduler</h1>\n",
    "\n",
    "This section will look at useful tools to help with determining a learning rate before training the mode. Learning rate is one of the most important parameters when tuning deep learning models.\n",
    "\n",
    "##### [Return To Top](#intro)"
   ]
  },
  {
   "cell_type": "markdown",
   "metadata": {},
   "source": [
    "### Learning Rate Finder\n",
    "\n",
    "A useful tool to help find a suitable range for the learning rate is a `learning rate finder`. One package that works well is [torch-lr-finder](https://pypi.org/project/torch-lr-finder/). \n",
    "\n",
    "Before kicking-off the initial training of a model it is useful evaluate the lr-finder plot to help in selecting a learning rate. Please realize this does not need to be called in production but can be used by the developer at the start of a project."
   ]
  },
  {
   "cell_type": "code",
   "execution_count": 9,
   "metadata": {},
   "outputs": [],
   "source": [
    "from torch_lr_finder import LRFinder, TrainDataLoaderIter\n",
    "from torch import nn\n",
    "from torch.optim import AdamW\n",
    "from IPython.display import clear_output\n",
    "from src.models.llm_multiclass import CustomModel\n",
    "from src.training.optimizers import get_optimizer\n",
    "\n",
    "# Load custom model\n",
    "model = CustomModel(llm_model_path=model_path,\n",
    "                    cfg=CFG.model,\n",
    "                    num_classes=df_train[CFG.data_info.target].nunique())\n",
    "\n",
    "# Set model on device\n",
    "model.to(DEVICE)\n",
    "clear_output()\n",
    "\n",
    "# Class to iterate over dataloader\n",
    "class TrainIter(TrainDataLoaderIter):\n",
    "    def inputs_labels_from_batch(self, batch):\n",
    "        return ({'input_ids': batch['input_ids'],\n",
    "                 'attention_mask': batch['attention_mask']},\n",
    "                batch['labels'])\n",
    "train_data_iter = TrainIter(train_dataloader)\n",
    "\n",
    "# Learning Rate Finder\n",
    "lr_finder = LRFinder(model,\n",
    "                     AdamW(filter(lambda p: p.requires_grad, model.parameters())),\n",
    "                     nn.CrossEntropyLoss(),\n",
    "                     device=\"cuda\")\n",
    "lr_finder.range_test(train_data_iter,\n",
    "                     start_lr=1.0e-8,\n",
    "                     end_lr=5.0e-4,\n",
    "                     num_iter=100,\n",
    "                     step_mode=\"linear\")\n",
    "lr_finder.plot(log_lr=False)\n",
    "lr_finder.reset()"
   ]
  },
  {
   "cell_type": "markdown",
   "metadata": {},
   "source": [
    "A few notes in the above learning rate finder plot:\n",
    "- The upper bound is ~3.0E-4 so learning rates above this will cause erratic behavior.\n",
    "- The lower bound is <1.0E-4 where learning may not occur as quickly.\n",
    "- This is a rather tight range for the learning rate and could be investigated further.\n",
    "\n",
    "In experiments not shown in the notebook it was found that setting a learning rate >=1.0E-3 caused the model to not learn and converge to predicting a single class."
   ]
  },
  {
   "cell_type": "markdown",
   "metadata": {},
   "source": [
    "### Learning Rate Scheduler\n",
    "\n",
    "Learning rate schedulers can be used to help an algorithm converge to a more optimal solution. Please refer to this references for more information and a visual representation of various learning rate schedules.\n",
    " - [Medium Article](https://towardsdatascience.com/a-visual-guide-to-learning-rate-schedulers-in-pytorch-24bbb262c863)\n",
    " - [Kaggle Notebook](https://www.kaggle.com/code/isbhargav/guide-to-pytorch-learning-rate-scheduling)"
   ]
  },
  {
   "cell_type": "code",
   "execution_count": 10,
   "metadata": {},
   "outputs": [
    {
     "data": {
      "image/png": "[encoded data removed]",
      "text/plain": [
       "<Figure size 640x480 with 1 Axes>"
      ]
     },
     "metadata": {},
     "output_type": "display_data"
    }
   ],
   "source": [
    "from torch.optim.lr_scheduler import CosineAnnealingLR, OneCycleLR\n",
    "import matplotlib.pyplot as plt\n",
    "\n",
    "# Optimizer\n",
    "optimizer = get_optimizer(cfg=CFG.optimizer,\n",
    "                          model=model)\n",
    "\n",
    "# Learning rate scheduler\n",
    "# scheduler = OneCycleLR(optimizer=optimizer,\n",
    "#                        total_steps=total_steps,\n",
    "#                        max_lr=CFG.optimizer.lr.max)\n",
    "\n",
    "scheduler = CosineAnnealingLR(optimizer,\n",
    "                              T_max=CFG.epochs * len(train_dataloader),\n",
    "                              eta_min=CFG.lr_scheduler.CosineAnnealingLR.eta_min)\n",
    "lr_value = []\n",
    "steps = []\n",
    "step_count = 0\n",
    "for epoch in range(CFG.epochs):\n",
    "    for batch_count in range(len(train_dataloader)):\n",
    "        optimizer.step()\n",
    "        lr_value.append(optimizer.param_groups[0]['lr'])\n",
    "        steps.append(step_count)\n",
    "        scheduler.step()\n",
    "        step_count +=1\n",
    "\n",
    "# Plot Learning Rate Schedule\n",
    "plt.plot(steps, lr_value)\n",
    "plt.xlabel('Steps')\n",
    "plt.ylabel('Learning Rate')\n",
    "plt.show()"
   ]
  },
  {
   "cell_type": "code",
   "execution_count": 11,
   "metadata": {},
   "outputs": [],
   "source": [
    "import gc\n",
    "# Set model to none to free GPU memory\n",
    "model = None\n",
    "\n",
    "# Clean up memory and variables\n",
    "del (model, optimizer, scheduler, lr_value,\n",
    "     steps, step_count,\n",
    "    #  lr_finder, train_data_iter,\n",
    "     )\n",
    "\n",
    "# Release cached memory\n",
    "torch.cuda.empty_cache()\n",
    "_ = gc.collect()\n"
   ]
  },
  {
   "cell_type": "markdown",
   "metadata": {},
   "source": [
    "<h1 id=\"training\">Train the Model</h1>\n",
    "\n",
    "The process of training the model for a single fold of data is conducted by the module [single_fold.py](../src/training/single_fold.py).\n",
    "\n",
    "The performance metrics `perf_metrics` are both the training and validation performance scores for f1, precision, recall, and loss at each epoch. \n",
    "\n",
    "### References\n",
    "\n",
    "- Loss Functions\n",
    "    - [Machine Learning Mastery](https://machinelearningmastery.com/how-to-choose-loss-functions-when-training-deep-learning-neural-networks/)\n",
    "    - [Neptune AI Article](https://neptune.ai/blog/pytorch-loss-functions)\n",
    "    - [PyTorch Loss Functions](https://pytorch.org/docs/stable/nn.html#loss-functions)\n",
    "    - Since this is a multi-class classification we can use nn.CrossEntropyLoss as the loss function. More elaborate modules can be built for selecting and creating custom loss functions.\n",
    "\n",
    "\n",
    "-   Performance Metrics\n",
    "    - [TorchMetrics](https://torchmetrics.readthedocs.io/en/latest/) will be used for implementing performance metrics.\n",
    "        - [F1-Score](https://torchmetrics.readthedocs.io/en/stable/classification/f1_score.html), [Precision](https://torchmetrics.readthedocs.io/en/stable/classification/precision.html), [Recall](https://torchmetrics.readthedocs.io/en/stable/classification/recall.html)\n",
    "\n",
    "\n",
    "##### [Return To Top](#intro)"
   ]
  },
  {
   "cell_type": "code",
   "execution_count": 12,
   "metadata": {},
   "outputs": [
    {
     "name": "stderr",
     "output_type": "stream",
     "text": [
      "Some weights of the model checkpoint at ../hf_download/bert-base-uncased were not used when initializing BertModel: ['cls.predictions.transform.LayerNorm.weight', 'cls.seq_relationship.bias', 'cls.seq_relationship.weight', 'cls.predictions.transform.dense.bias', 'cls.predictions.transform.LayerNorm.bias', 'cls.predictions.bias', 'cls.predictions.transform.dense.weight']\n",
      "- This IS expected if you are initializing BertModel from the checkpoint of a model trained on another task or with another architecture (e.g. initializing a BertForSequenceClassification model from a BertForPreTraining model).\n",
      "- This IS NOT expected if you are initializing BertModel from the checkpoint of a model that you expect to be exactly identical (initializing a BertForSequenceClassification model from a BertForSequenceClassification model).\n"
     ]
    },
    {
     "name": "stdout",
     "output_type": "stream",
     "text": [
      "\n",
      "Start Epoch 1\n"
     ]
    },
    {
     "name": "stderr",
     "output_type": "stream",
     "text": [
      "Epoch 1: 100%|██████████| 157/157 [00:52<00:00,  2.97batch/s, f1=0.787, loss=0.5119, precision=0.809, recall=0.812]\n"
     ]
    },
    {
     "name": "stdout",
     "output_type": "stream",
     "text": [
      "Epoch 1 Training Time: 0.88 minutes\n",
      "\tTraining: loss=0.5029; f1=0.791; precision=0.812; recall=0.816\n"
     ]
    },
    {
     "name": "stderr",
     "output_type": "stream",
     "text": [
      "Val. at Epoch: 1: 100%|██████████| 157/157 [00:18<00:00,  8.48batch/s]\n"
     ]
    },
    {
     "name": "stdout",
     "output_type": "stream",
     "text": [
      "\tVal.: loss=0.1922; f1=0.924; precision=0.932; recall=0.933\n",
      "\n",
      "Start Epoch 2\n"
     ]
    },
    {
     "name": "stderr",
     "output_type": "stream",
     "text": [
      "Epoch 2: 100%|██████████| 157/157 [00:52<00:00,  3.01batch/s, f1=0.944, loss=0.1628, precision=0.952, recall=0.952]\n"
     ]
    },
    {
     "name": "stdout",
     "output_type": "stream",
     "text": [
      "Epoch 2 Training Time: 0.87 minutes\n",
      "\tTraining: loss=0.1611; f1=0.945; precision=0.953; recall=0.953\n"
     ]
    },
    {
     "name": "stderr",
     "output_type": "stream",
     "text": [
      "Val. at Epoch: 2: 100%|██████████| 157/157 [00:18<00:00,  8.42batch/s]\n"
     ]
    },
    {
     "name": "stdout",
     "output_type": "stream",
     "text": [
      "\tVal.: loss=0.1907; f1=0.929; precision=0.939; recall=0.937\n",
      "\n",
      "Start Epoch 3\n"
     ]
    },
    {
     "name": "stderr",
     "output_type": "stream",
     "text": [
      "Epoch 3: 100%|██████████| 157/157 [00:53<00:00,  2.94batch/s, f1=0.970, loss=0.0894, precision=0.974, recall=0.975]\n"
     ]
    },
    {
     "name": "stdout",
     "output_type": "stream",
     "text": [
      "Epoch 3 Training Time: 0.89 minutes\n",
      "\tTraining: loss=0.0894; f1=0.970; precision=0.974; recall=0.975\n"
     ]
    },
    {
     "name": "stderr",
     "output_type": "stream",
     "text": [
      "Val. at Epoch: 3: 100%|██████████| 157/157 [00:18<00:00,  8.42batch/s]\n"
     ]
    },
    {
     "name": "stdout",
     "output_type": "stream",
     "text": [
      "\tVal.: loss=0.1800; f1=0.928; precision=0.938; recall=0.937\n",
      "\n",
      "Start Epoch 4\n"
     ]
    },
    {
     "name": "stderr",
     "output_type": "stream",
     "text": [
      "Epoch 4: 100%|██████████| 157/157 [00:53<00:00,  2.94batch/s, f1=0.974, loss=0.0846, precision=0.979, recall=0.978]\n"
     ]
    },
    {
     "name": "stdout",
     "output_type": "stream",
     "text": [
      "Epoch 4 Training Time: 0.89 minutes\n",
      "\tTraining: loss=0.0825; f1=0.975; precision=0.980; recall=0.978\n"
     ]
    },
    {
     "name": "stderr",
     "output_type": "stream",
     "text": [
      "Val. at Epoch: 4: 100%|██████████| 157/157 [00:18<00:00,  8.41batch/s]\n"
     ]
    },
    {
     "name": "stdout",
     "output_type": "stream",
     "text": [
      "\tVal.: loss=0.1185; f1=0.963; precision=0.969; recall=0.968\n",
      "\n",
      "Start Epoch 5\n"
     ]
    },
    {
     "name": "stderr",
     "output_type": "stream",
     "text": [
      "Epoch 5: 100%|██████████| 157/157 [00:53<00:00,  2.95batch/s, f1=0.976, loss=0.0627, precision=0.978, recall=0.980]\n"
     ]
    },
    {
     "name": "stdout",
     "output_type": "stream",
     "text": [
      "Epoch 5 Training Time: 0.89 minutes\n",
      "\tTraining: loss=0.0620; f1=0.976; precision=0.979; recall=0.980\n"
     ]
    },
    {
     "name": "stderr",
     "output_type": "stream",
     "text": [
      "Val. at Epoch: 5: 100%|██████████| 157/157 [00:18<00:00,  8.37batch/s]\n"
     ]
    },
    {
     "name": "stdout",
     "output_type": "stream",
     "text": [
      "\tVal.: loss=0.1199; f1=0.955; precision=0.960; recall=0.961\n",
      "\n",
      "Start Epoch 6\n"
     ]
    },
    {
     "name": "stderr",
     "output_type": "stream",
     "text": [
      "Epoch 6: 100%|██████████| 157/157 [00:53<00:00,  2.95batch/s, f1=0.995, loss=0.0181, precision=0.996, recall=0.996]\n"
     ]
    },
    {
     "name": "stdout",
     "output_type": "stream",
     "text": [
      "Epoch 6 Training Time: 0.89 minutes\n",
      "\tTraining: loss=0.0180; f1=0.995; precision=0.996; recall=0.996\n"
     ]
    },
    {
     "name": "stderr",
     "output_type": "stream",
     "text": [
      "Val. at Epoch: 6: 100%|██████████| 157/157 [00:18<00:00,  8.35batch/s]\n"
     ]
    },
    {
     "name": "stdout",
     "output_type": "stream",
     "text": [
      "\tVal.: loss=0.1177; f1=0.961; precision=0.967; recall=0.966\n",
      "\n",
      "Start Epoch 7\n"
     ]
    },
    {
     "name": "stderr",
     "output_type": "stream",
     "text": [
      "Epoch 7: 100%|██████████| 157/157 [00:53<00:00,  2.93batch/s, f1=0.992, loss=0.0234, precision=0.994, recall=0.993]\n"
     ]
    },
    {
     "name": "stdout",
     "output_type": "stream",
     "text": [
      "Epoch 7 Training Time: 0.89 minutes\n",
      "\tTraining: loss=0.0251; f1=0.992; precision=0.994; recall=0.992\n"
     ]
    },
    {
     "name": "stderr",
     "output_type": "stream",
     "text": [
      "Val. at Epoch: 7: 100%|██████████| 157/157 [00:18<00:00,  8.37batch/s]\n"
     ]
    },
    {
     "name": "stdout",
     "output_type": "stream",
     "text": [
      "\tVal.: loss=0.1434; f1=0.960; precision=0.964; recall=0.966\n",
      "\n",
      "Start Epoch 8\n"
     ]
    },
    {
     "name": "stderr",
     "output_type": "stream",
     "text": [
      "Epoch 8: 100%|██████████| 157/157 [00:53<00:00,  2.94batch/s, f1=0.998, loss=0.0094, precision=0.999, recall=0.998]\n"
     ]
    },
    {
     "name": "stdout",
     "output_type": "stream",
     "text": [
      "Epoch 8 Training Time: 0.89 minutes\n",
      "\tTraining: loss=0.0091; f1=0.998; precision=0.999; recall=0.998\n"
     ]
    },
    {
     "name": "stderr",
     "output_type": "stream",
     "text": [
      "Val. at Epoch: 8: 100%|██████████| 157/157 [00:18<00:00,  8.30batch/s]\n"
     ]
    },
    {
     "name": "stdout",
     "output_type": "stream",
     "text": [
      "\tVal.: loss=0.1173; f1=0.970; precision=0.972; recall=0.975\n",
      "\n",
      "Start Epoch 9\n"
     ]
    },
    {
     "name": "stderr",
     "output_type": "stream",
     "text": [
      "Epoch 9: 100%|██████████| 157/157 [00:53<00:00,  2.95batch/s, f1=0.999, loss=0.0058, precision=0.999, recall=0.999]\n"
     ]
    },
    {
     "name": "stdout",
     "output_type": "stream",
     "text": [
      "Epoch 9 Training Time: 0.89 minutes\n",
      "\tTraining: loss=0.0057; f1=0.999; precision=0.999; recall=0.999\n"
     ]
    },
    {
     "name": "stderr",
     "output_type": "stream",
     "text": [
      "Val. at Epoch: 9: 100%|██████████| 157/157 [00:18<00:00,  8.45batch/s]\n"
     ]
    },
    {
     "name": "stdout",
     "output_type": "stream",
     "text": [
      "\tVal.: loss=0.1194; f1=0.972; precision=0.976; recall=0.976\n",
      "\n",
      "Start Epoch 10\n"
     ]
    },
    {
     "name": "stderr",
     "output_type": "stream",
     "text": [
      "Epoch 10: 100%|██████████| 157/157 [00:53<00:00,  2.92batch/s, f1=0.999, loss=0.0019, precision=1.000, recall=0.999]\n"
     ]
    },
    {
     "name": "stdout",
     "output_type": "stream",
     "text": [
      "Epoch 10 Training Time: 0.90 minutes\n",
      "\tTraining: loss=0.0020; f1=0.999; precision=1.000; recall=0.999\n"
     ]
    },
    {
     "name": "stderr",
     "output_type": "stream",
     "text": [
      "Val. at Epoch: 10: 100%|██████████| 157/157 [00:18<00:00,  8.35batch/s]\n"
     ]
    },
    {
     "name": "stdout",
     "output_type": "stream",
     "text": [
      "\tVal.: loss=0.1210; f1=0.968; precision=0.972; recall=0.972\n",
      "\n",
      "Start Epoch 11\n"
     ]
    },
    {
     "name": "stderr",
     "output_type": "stream",
     "text": [
      "Epoch 11: 100%|██████████| 157/157 [00:53<00:00,  2.93batch/s, f1=1.000, loss=0.0019, precision=1.000, recall=1.000]\n"
     ]
    },
    {
     "name": "stdout",
     "output_type": "stream",
     "text": [
      "Epoch 11 Training Time: 0.89 minutes\n",
      "\tTraining: loss=0.0019; f1=1.000; precision=1.000; recall=1.000\n"
     ]
    },
    {
     "name": "stderr",
     "output_type": "stream",
     "text": [
      "Val. at Epoch: 11: 100%|██████████| 157/157 [00:18<00:00,  8.33batch/s]\n"
     ]
    },
    {
     "name": "stdout",
     "output_type": "stream",
     "text": [
      "\tVal.: loss=0.1218; f1=0.970; precision=0.974; recall=0.974\n",
      "\n",
      "Start Epoch 12\n"
     ]
    },
    {
     "name": "stderr",
     "output_type": "stream",
     "text": [
      "Epoch 12: 100%|██████████| 157/157 [00:53<00:00,  2.92batch/s, f1=1.000, loss=0.0006, precision=1.000, recall=1.000]\n"
     ]
    },
    {
     "name": "stdout",
     "output_type": "stream",
     "text": [
      "Epoch 12 Training Time: 0.90 minutes\n",
      "\tTraining: loss=0.0007; f1=1.000; precision=1.000; recall=1.000\n"
     ]
    },
    {
     "name": "stderr",
     "output_type": "stream",
     "text": [
      "Val. at Epoch: 12: 100%|██████████| 157/157 [00:18<00:00,  8.35batch/s]\n"
     ]
    },
    {
     "name": "stdout",
     "output_type": "stream",
     "text": [
      "\tVal.: loss=0.1246; f1=0.965; precision=0.970; recall=0.969\n",
      "\n",
      "Start Epoch 13\n"
     ]
    },
    {
     "name": "stderr",
     "output_type": "stream",
     "text": [
      "Epoch 13: 100%|██████████| 157/157 [00:53<00:00,  2.92batch/s, f1=1.000, loss=0.0006, precision=1.000, recall=1.000]\n"
     ]
    },
    {
     "name": "stdout",
     "output_type": "stream",
     "text": [
      "Epoch 13 Training Time: 0.90 minutes\n",
      "\tTraining: loss=0.0006; f1=1.000; precision=1.000; recall=1.000\n"
     ]
    },
    {
     "name": "stderr",
     "output_type": "stream",
     "text": [
      "Val. at Epoch: 13: 100%|██████████| 157/157 [00:18<00:00,  8.32batch/s]\n"
     ]
    },
    {
     "name": "stdout",
     "output_type": "stream",
     "text": [
      "\tVal.: loss=0.1281; f1=0.966; precision=0.970; recall=0.970\n",
      "\n",
      "Start Epoch 14\n"
     ]
    },
    {
     "name": "stderr",
     "output_type": "stream",
     "text": [
      "Epoch 14: 100%|██████████| 157/157 [00:53<00:00,  2.94batch/s, f1=1.000, loss=0.0005, precision=1.000, recall=1.000]\n"
     ]
    },
    {
     "name": "stdout",
     "output_type": "stream",
     "text": [
      "Epoch 14 Training Time: 0.89 minutes\n",
      "\tTraining: loss=0.0005; f1=1.000; precision=1.000; recall=1.000\n"
     ]
    },
    {
     "name": "stderr",
     "output_type": "stream",
     "text": [
      "Val. at Epoch: 14: 100%|██████████| 157/157 [00:18<00:00,  8.36batch/s]\n"
     ]
    },
    {
     "name": "stdout",
     "output_type": "stream",
     "text": [
      "\tVal.: loss=0.1238; f1=0.971; precision=0.974; recall=0.975\n",
      "\n",
      "Start Epoch 15\n"
     ]
    },
    {
     "name": "stderr",
     "output_type": "stream",
     "text": [
      "Epoch 15: 100%|██████████| 157/157 [00:53<00:00,  2.93batch/s, f1=1.000, loss=0.0005, precision=1.000, recall=1.000]\n"
     ]
    },
    {
     "name": "stdout",
     "output_type": "stream",
     "text": [
      "Epoch 15 Training Time: 0.89 minutes\n",
      "\tTraining: loss=0.0005; f1=1.000; precision=1.000; recall=1.000\n"
     ]
    },
    {
     "name": "stderr",
     "output_type": "stream",
     "text": [
      "Val. at Epoch: 15: 100%|██████████| 157/157 [00:18<00:00,  8.31batch/s]"
     ]
    },
    {
     "name": "stdout",
     "output_type": "stream",
     "text": [
      "\tVal.: loss=0.1250; f1=0.969; precision=0.974; recall=0.972\n",
      "Total Training Time: 18.0 minutes\n"
     ]
    },
    {
     "name": "stderr",
     "output_type": "stream",
     "text": [
      "\n"
     ]
    }
   ],
   "source": [
    "# Path to save model results\n",
    "model_save_path = getattr(run_ids.folds_id, f'fold{fold_num}').path\n",
    "\n",
    "# Training for a single fold\n",
    "perf_metrics = train_fold(train_dl=train_dataloader,\n",
    "                          val_dl=val_dataloader,\n",
    "                          cfg=CFG,\n",
    "                          device=DEVICE,\n",
    "                          n_classes=df_train[CFG.data_info.target].nunique(),\n",
    "                          model_save_path=model_save_path)"
   ]
  },
  {
   "cell_type": "markdown",
   "metadata": {},
   "source": [
    "<h1 id=\"learning-curves\">Visualize Learning Curves</h1>\n",
    "\n",
    "The learning curves will be plotted using the returned `perf_metrics` dictionary. The learning curves provide a rich amount of information about model performance and is an excellent diagnostic tool. \n",
    "\n",
    "Please refer to the below articles explaining how to use an learning curves:\n",
    "- [Machine Learning Mastery: How to use Learning Curves to Diagnose Machine Learning Model Performance](https://machinelearningmastery.com/learning-curves-for-diagnosing-machine-learning-model-performance/)\n",
    "- [Baeldung: What Is a Learning Curve in Machine Learning?](https://www.baeldung.com/cs/learning-curve-ml)\n",
    "\n",
    "##### [Return To Top](#intro)"
   ]
  },
  {
   "cell_type": "code",
   "execution_count": 13,
   "metadata": {},
   "outputs": [
    {
     "data": {
      "image/png": "[encoded data removed]",
      "text/plain": [
       "<Figure size 640x480 with 1 Axes>"
      ]
     },
     "metadata": {},
     "output_type": "display_data"
    },
    {
     "data": {
      "image/png": "[encoded data removed]",
      "text/plain": [
       "<Figure size 640x480 with 1 Axes>"
      ]
     },
     "metadata": {},
     "output_type": "display_data"
    },
    {
     "data": {
      "image/png": "[encoded data removed]",
      "text/plain": [
       "<Figure size 640x480 with 1 Axes>"
      ]
     },
     "metadata": {},
     "output_type": "display_data"
    },
    {
     "data": {
      "image/png": "[encoded data removed]",
      "text/plain": [
       "<Figure size 640x480 with 1 Axes>"
      ]
     },
     "metadata": {},
     "output_type": "display_data"
    }
   ],
   "source": [
    "epochs = perf_metrics['epoch']\n",
    "for metric_name in ['loss', 'f1', 'precision', 'recall']:\n",
    "    y_train = perf_metrics[f'train_{metric_name}']\n",
    "    y_val=perf_metrics[f'val_{metric_name}']\n",
    "    # Create the plot\n",
    "    fig, ax = plt.subplots(nrows=1, ncols=1)\n",
    "    ax.plot(epochs, y_train, 'tab:blue',\n",
    "            epochs, y_val, 'tab:orange')\n",
    "    ax.legend(['train', 'val.'])\n",
    "    ax.set_xlabel('Epochs')\n",
    "    ax.set_ylabel(f'{metric_name}')\n",
    "plt.show()"
   ]
  },
  {
   "cell_type": "markdown",
   "metadata": {},
   "source": [
    "#### Practical Application of Learning Curves\n",
    "Below is an illustration of training and validation loss curve and how they can be used to find the right bias/variance tradeoff \n",
    "<p align='center'>\n",
    "    <img src='../doc/imgs/fitgraph.jpg'>\n",
    "</p>\n",
    "<p style=\"text-align: center;\"> \n",
    "Image taken from <a href=\"https://www.baeldung.com/cs/learning-curve-ml\">Baeldung</a>\n",
    "</p>\n",
    "    \n",
    "For the example shown in this notebook, around what epoch do you think will provide a `good fitting` model? Looks like the model is starting to over fit around epoch 4."
   ]
  },
  {
   "cell_type": "markdown",
   "metadata": {},
   "source": [
    "<h1 id=\"model-selection\">Model Selection and Experimenting</h1>\n",
    "\n",
    "This notebook demonstrated fine-tuning of the BERT model on CFPB data for a `single` fold of data.\n",
    "\n",
    "### Automated Tuning and Cross-Validation\n",
    "To improve on this analysis a cross-validation can be performed more easily using the [../scripts/train_model.py](../scripts/train_model.py) script.\n",
    "\n",
    "This script is best used by:\n",
    "1) create a directory of different configuration YAML files. Set the various inputs in the configuration files to your liking and modify the code as needed to accommodate tests you want to run. This allows for a lot of flexibility in iterating over various input parameters, testing functions/modules, processes, etc.\n",
    "2) Execute over the various configuration files using a bash script.\n",
    "\n",
    "This process will now allow you to get away from the computer while it can run your highly configurable pipeline.\n",
    "\n",
    "An example is show below:\n",
    "```\n",
    "Setup config YAML files with parameters of your choosing\n",
    "\n",
    "├── ./cfgs/tune\n",
    "│   ├── run0.yaml\n",
    "│   ├── run1.yaml\n",
    "│   ├── ...\n",
    "│   ├── runN.yaml\n",
    "```\n",
    "To execute each yaml file in the `train_model.py` the below bash shell can be used:\n",
    "```bash\n",
    "#!/bin/bash\n",
    "\n",
    "# Shell script to execute customized model training.\n",
    "# YAML configurations files are used to control the training pipeline such as datasets, models, hyperparameters, etc.\n",
    "\n",
    "cfgfiles=`ls ./cfgs/tune/*.yaml`\n",
    "for cfgfile in $cfgfiles\n",
    "do\n",
    "   echo \"$(basename \"$cfgfile\")\"\n",
    "   FILENAME=\"$(basename \"$cfgfile\")\"\n",
    "   python ./src/train_model.py --dir ./cfgs/tune/ --name $FILENAME\n",
    "done\n",
    "```\n",
    "\n",
    "### C.V. and Holdout Test Set\n",
    "\n",
    "To further investigate model performance and ensure a well fitting model a holdout test set can be used in conjunction with c.v. scores.\n",
    "\n",
    "For example, say a 5 fold c.v. was performed and F1 score is the primary performance metric. You can take the average c.v. F1 score and plot it against the F1 score for the holdout set. This analysis provides an extra layer of certainty in select the best performing model/parameters/pipeline. An example of this analysis is shown in the below cell.\n",
    "\n",
    "##### [Return To Top](#intro)"
   ]
  },
  {
   "cell_type": "code",
   "execution_count": 32,
   "metadata": {},
   "outputs": [
    {
     "data": {
      "image/png": "[encoded data removed]",
      "text/plain": [
       "<Figure size 640x480 with 1 Axes>"
      ]
     },
     "metadata": {},
     "output_type": "display_data"
    }
   ],
   "source": [
    "# 5-Fold C.V. F1 Scores for Three Config. YAML Runs\n",
    "run1 = {'cv': [0.92, 0.96, 0.89, 0.94, 0.97],\n",
    "        'holdout': 0.92}\n",
    "run2 = {'cv': [0.90, 0.95, 0.87, 0.95, 0.94],\n",
    "        'holdout': 0.91}\n",
    "run3 = {'cv': [0.90, 0.92, 0.90, 0.91, 0.95],\n",
    "        'holdout': 0.89}\n",
    "\n",
    "# Plot c.v. vs. holdout\n",
    "# Create the plot\n",
    "fig, ax = plt.subplots(nrows=1, ncols=1)\n",
    "for run in [run1, run2, run3]:\n",
    "        # C.V. Average of all folds\n",
    "        cv_avg = sum(run['cv']) / len(run['cv'])\n",
    "        ax.plot(cv_avg, run['holdout'], 'o')\n",
    "ax.legend(['run1', 'run2', 'run3'])\n",
    "ax.set_xlabel('C.V. 5-Fold Avg. F1')\n",
    "ax.set_ylabel(f'Holdout F1')\n",
    "plt.show()"
   ]
  },
  {
   "cell_type": "markdown",
   "metadata": {},
   "source": [
    "The above plots shows that `run1` is the best configuration to select because it has a high avg C.V. and holdout test performance. Using this type of analysis and plot lets you easily select the best performing models.\n",
    "\n",
    "\n",
    "<h1 id=\"exp-track\">Experiment Tracking Tools</h1>\n",
    "\n",
    "Due to the highly iterative nature of deep learning model development the organization of experiments and their results can become very demanding. Several software exist for machine learning experiment tracking, hyperparameter tuning, results visualization, etc. A a few popular software are provided below and as well as a review article:\n",
    "\n",
    "- [Tensoboards](https://www.tensorflow.org/tensorboard)\n",
    "- [Weights and Biases](https://wandb.ai/site)\n",
    "- [Neptune AI](https://neptune.ai/homepage)\n",
    "- [A Comprehensive Comparison of ML Experiment Tracking Tools](https://towardsdatascience.com/a-comprehensive-comparison-of-ml-experiment-tracking-tools-9f0192543feb)\n",
    "\n",
    "##### [Return To Top](#intro)"
   ]
  },
  {
   "cell_type": "markdown",
   "metadata": {},
   "source": []
  }
 ],
 "metadata": {
  "kernelspec": {
   "display_name": ".venv",
   "language": "python",
   "name": "python3"
  },
  "language_info": {
   "codemirror_mode": {
    "name": "ipython",
    "version": 3
   },
   "file_extension": ".py",
   "mimetype": "text/x-python",
   "name": "python",
   "nbconvert_exporter": "python",
   "pygments_lexer": "ipython3",
   "version": "3.10.6"
  },
  "orig_nbformat": 4
 },
 "nbformat": 4,
 "nbformat_minor": 2
}
