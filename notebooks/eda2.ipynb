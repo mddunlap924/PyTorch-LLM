{
 "cells": [
  {
   "cell_type": "markdown",
   "metadata": {},
   "source": [
    "# Exploratory Data Analysis (EDA)\n",
    "\n",
    "This notebook performs a very rudimentary EDA on the original CFPB dataset. The objectives of this notebook are to:\n",
    "1. Introduce the dependent and independent variables that will be used in the modeling approach.\n",
    "    - The independent variables will be mixed to showcase how this can be modeling using a custom PyTorch Module. The independent variables will consist of: A) unstructured text field and B) some categorical fields.\n",
    "2. Remove any nulls values from the dataset for future modeling tasks.\n",
    "    - This preprocessed dataset will be saved back to disk for use in modeling.\n",
    "3. Save a very reduced dataset which will be used for the debugging feature in pipeline development.\n",
    "    - This is a trick that can be used to tremendously speed up pipeline/code development.\n",
    "4. Save about 15% of data to disk for experimenting/working with because the full ~386K dataset takes a long to process."
   ]
  },
  {
   "cell_type": "code",
   "execution_count": 1,
   "metadata": {},
   "outputs": [],
   "source": [
    "# Import Libraries\n",
    "import os\n",
    "import pandas as pd\n",
    "import matplotlib.pyplot as plt\n",
    "from transformers import AutoTokenizer\n",
    "from torch.utils.data import Dataset, DataLoader\n",
    "\n",
    "# Allow HF tokenizer parallelism\n",
    "os.environ['TOKENIZERS_PARALLELISM'] = 'True'"
   ]
  },
  {
   "cell_type": "markdown",
   "metadata": {},
   "source": [
    "# User Inputs"
   ]
  },
  {
   "cell_type": "code",
   "execution_count": 2,
   "metadata": {},
   "outputs": [],
   "source": [
    "# Path to Data\n",
    "PATHS = {'data': '../data/complaints_processed.csv',\n",
    "         'hf_cache': os.environ['TRANSFORMERS_CACHE'],\n",
    "         'save_processed_data': '../data/cfpb.csv',\n",
    "         'save_debug_data': '../data/cfpb_debug.csv',\n",
    "         'save_partial_data': '../data/cfpb_partial.csv'}\n",
    "\n",
    "# Name of the model\n",
    "model_name = 'bert-base-uncased'"
   ]
  },
  {
   "cell_type": "markdown",
   "metadata": {},
   "source": [
    "# Load Data and Basic EDA\n",
    "\n",
    "The basic EDA will be to view the number of unique values, remove nulls, and select a few different source fields that could be used to predicting the target variable."
   ]
  },
  {
   "cell_type": "code",
   "execution_count": 3,
   "metadata": {},
   "outputs": [
    {
     "name": "stdout",
     "output_type": "stream",
     "text": [
      "CFPB Data Shape: (162,421, 3)\n"
     ]
    },
    {
     "data": {
      "text/html": [
       "<div>\n",
       "<style scoped>\n",
       "    .dataframe tbody tr th:only-of-type {\n",
       "        vertical-align: middle;\n",
       "    }\n",
       "\n",
       "    .dataframe tbody tr th {\n",
       "        vertical-align: top;\n",
       "    }\n",
       "\n",
       "    .dataframe thead th {\n",
       "        text-align: right;\n",
       "    }\n",
       "</style>\n",
       "<table border=\"1\" class=\"dataframe\">\n",
       "  <thead>\n",
       "    <tr style=\"text-align: right;\">\n",
       "      <th></th>\n",
       "      <th>Unnamed: 0</th>\n",
       "      <th>product</th>\n",
       "      <th>narrative</th>\n",
       "    </tr>\n",
       "  </thead>\n",
       "  <tbody>\n",
       "    <tr>\n",
       "      <th>0</th>\n",
       "      <td>0</td>\n",
       "      <td>credit_card</td>\n",
       "      <td>purchase order day shipping amount receive pro...</td>\n",
       "    </tr>\n",
       "    <tr>\n",
       "      <th>1</th>\n",
       "      <td>1</td>\n",
       "      <td>credit_card</td>\n",
       "      <td>forwarded message date tue subject please inve...</td>\n",
       "    </tr>\n",
       "  </tbody>\n",
       "</table>\n",
       "</div>"
      ],
      "text/plain": [
       "   Unnamed: 0      product                                          narrative\n",
       "0           0  credit_card  purchase order day shipping amount receive pro...\n",
       "1           1  credit_card  forwarded message date tue subject please inve..."
      ]
     },
     "metadata": {},
     "output_type": "display_data"
    }
   ],
   "source": [
    "# Load Data\n",
    "df = pd.read_csv(PATHS['data'], low_memory=False)\n",
    "\n",
    "# Display data shape and some rows\n",
    "print(f'CFPB Data Shape: ({df.shape[0]:,}, {df.shape[1]})')\n",
    "display(df.head(2))"
   ]
  },
  {
   "cell_type": "code",
   "execution_count": 4,
   "metadata": {},
   "outputs": [
    {
     "data": {
      "text/html": [
       "<style type=\"text/css\">\n",
       "</style>\n",
       "<table id=\"T_cbb62\">\n",
       "  <thead>\n",
       "    <tr>\n",
       "      <th class=\"blank level0\" >&nbsp;</th>\n",
       "      <th id=\"T_cbb62_level0_col0\" class=\"col_heading level0 col0\" >unique</th>\n",
       "    </tr>\n",
       "  </thead>\n",
       "  <tbody>\n",
       "    <tr>\n",
       "      <th id=\"T_cbb62_level0_row0\" class=\"row_heading level0 row0\" >Unnamed: 0</th>\n",
       "      <td id=\"T_cbb62_row0_col0\" class=\"data row0 col0\" >nan</td>\n",
       "    </tr>\n",
       "    <tr>\n",
       "      <th id=\"T_cbb62_level0_row1\" class=\"row_heading level0 row1\" >product</th>\n",
       "      <td id=\"T_cbb62_row1_col0\" class=\"data row1 col0\" >5</td>\n",
       "    </tr>\n",
       "    <tr>\n",
       "      <th id=\"T_cbb62_level0_row2\" class=\"row_heading level0 row2\" >narrative</th>\n",
       "      <td id=\"T_cbb62_row2_col0\" class=\"data row2 col0\" >124,472</td>\n",
       "    </tr>\n",
       "  </tbody>\n",
       "</table>\n"
      ],
      "text/plain": [
       "<pandas.io.formats.style.Styler at 0x7ff016c3a4d0>"
      ]
     },
     "metadata": {},
     "output_type": "display_data"
    }
   ],
   "source": [
    "# Uniques for each field\n",
    "tmp = df.describe(include='all').loc['unique', :]\n",
    "display(tmp.to_frame().style.format(\"{:,.0f}\"))\n",
    "del tmp"
   ]
  },
  {
   "cell_type": "code",
   "execution_count": 9,
   "metadata": {},
   "outputs": [
    {
     "data": {
      "text/plain": [
       "product\n",
       "credit_reporting       91179\n",
       "debt_collection        23150\n",
       "mortgages_and_loans    18990\n",
       "credit_card            15566\n",
       "retail_banking         13536\n",
       "Name: count, dtype: int64"
      ]
     },
     "execution_count": 9,
     "metadata": {},
     "output_type": "execute_result"
    }
   ],
   "source": [
    "df['product'].value_counts()"
   ]
  },
  {
   "cell_type": "code",
   "execution_count": 6,
   "metadata": {},
   "outputs": [],
   "source": [
    "# https://esource.dbs.ie/bitstream/handle/10788/4224/msc_shivaprasad_vm_2020.pdf?sequence=1&isAllowed=y\n",
    "# Reduce the \"Product\" categories for quicker processing\n",
    "keep_products = ['Credit reporting, credit repair services, or other personal consumer reports',\n",
    "                 'Credit card or prepaid card',\n",
    "                 'Mortgage',\n",
    "                 'Debt collection',\n",
    "                 'Student loan']\n",
    "df = df[df['Product'].isin(keep_products)].reset_index(drop=True)"
   ]
  },
  {
   "cell_type": "code",
   "execution_count": 7,
   "metadata": {},
   "outputs": [
    {
     "name": "stdout",
     "output_type": "stream",
     "text": [
      "Number of Non-Nulls in Each Column BEFORE Removing Nulls\n",
      "\tConsumer complaint narrative: 275,264\n",
      "\tIssue: 848,287\n",
      "\tSub-issue: 558,190\n",
      "CFPB Data Shape After Removing Nulls:(219,430, 18)\n",
      "Number of Non-Nulls in Each Column AFTER Removing Nulls\n",
      "\tConsumer complaint narrative: 219,430\n",
      "\tIssue: 219,430\n",
      "\tSub-issue: 219,430\n"
     ]
    }
   ],
   "source": [
    "# Number of nulls in source fields\n",
    "source_fields = ['Consumer complaint narrative',\n",
    "                 'Issue',\n",
    "                 'Sub-issue']\n",
    "target = 'Product'\n",
    "print(f'Number of Non-Nulls in Each Column BEFORE Removing Nulls')\n",
    "n_rows = len(df)\n",
    "for col in source_fields:\n",
    "    print(f'\\t{col}: {n_rows - df[col].isnull().sum():,}')\n",
    "\n",
    "# Reduce the dataframe to only non-null consumer complaints\n",
    "data = (df.dropna(subset=source_fields)\n",
    "        .reset_index(drop=True))\n",
    "print((f'CFPB Data Shape After Removing Nulls:'\n",
    "       f'({data.shape[0]:,}, {data.shape[1]})'))\n",
    "\n",
    "# Number of nulls in source fields AFTER removing Nulls\n",
    "print(f'Number of Non-Nulls in Each Column AFTER Removing Nulls')\n",
    "n_rows = len(data)\n",
    "for col in source_fields:\n",
    "    print(f'\\t{col}: {n_rows - data[col].isnull().sum():,}')"
   ]
  },
  {
   "cell_type": "code",
   "execution_count": 8,
   "metadata": {},
   "outputs": [
    {
     "name": "stdout",
     "output_type": "stream",
     "text": [
      "Product\n"
     ]
    },
    {
     "data": {
      "text/html": [
       "<style type=\"text/css\">\n",
       "</style>\n",
       "<table id=\"T_67be6\">\n",
       "  <thead>\n",
       "    <tr>\n",
       "      <th class=\"blank level0\" >&nbsp;</th>\n",
       "      <th id=\"T_67be6_level0_col0\" class=\"col_heading level0 col0\" >count</th>\n",
       "    </tr>\n",
       "    <tr>\n",
       "      <th class=\"index_name level0\" >Product</th>\n",
       "      <th class=\"blank col0\" >&nbsp;</th>\n",
       "    </tr>\n",
       "  </thead>\n",
       "  <tbody>\n",
       "    <tr>\n",
       "      <th id=\"T_67be6_level0_row0\" class=\"row_heading level0 row0\" >Mortgage</th>\n",
       "      <td id=\"T_67be6_row0_col0\" class=\"data row0 col0\" >278,098</td>\n",
       "    </tr>\n",
       "    <tr>\n",
       "      <th id=\"T_67be6_level0_row1\" class=\"row_heading level0 row1\" >Debt collection</th>\n",
       "      <td id=\"T_67be6_row1_col0\" class=\"data row1 col0\" >244,873</td>\n",
       "    </tr>\n",
       "    <tr>\n",
       "      <th id=\"T_67be6_level0_row2\" class=\"row_heading level0 row2\" >Credit reporting, credit repair services, or other personal consumer reports</th>\n",
       "      <td id=\"T_67be6_row2_col0\" class=\"data row2 col0\" >225,978</td>\n",
       "    </tr>\n",
       "    <tr>\n",
       "      <th id=\"T_67be6_level0_row3\" class=\"row_heading level0 row3\" >Student loan</th>\n",
       "      <td id=\"T_67be6_row3_col0\" class=\"data row3 col0\" >51,685</td>\n",
       "    </tr>\n",
       "    <tr>\n",
       "      <th id=\"T_67be6_level0_row4\" class=\"row_heading level0 row4\" >Credit card or prepaid card</th>\n",
       "      <td id=\"T_67be6_row4_col0\" class=\"data row4 col0\" >47,653</td>\n",
       "    </tr>\n",
       "  </tbody>\n",
       "</table>\n"
      ],
      "text/plain": [
       "<pandas.io.formats.style.Styler at 0x7fa8c854b220>"
      ]
     },
     "metadata": {},
     "output_type": "display_data"
    }
   ],
   "source": [
    "# Value counts for each categorical source field and target\n",
    "for col in [target]:\n",
    "    print(col)\n",
    "    tmp = df[col].value_counts().to_frame().style.format(\"{:,.0f}\")\n",
    "    display(tmp)\n",
    "    del tmp"
   ]
  },
  {
   "cell_type": "markdown",
   "metadata": {},
   "source": [
    "# Number of Tokens Distribution\n",
    "\n",
    "The field `Consumer complaint narrative` is the unstructured text source field that will be used to predict the target variable. The `bert-base-uncased` model used in this example only allows for a maximum of 512 tokens. Text past this point will be truncated. There are other methods (e.g., sliding windows) that can handle longer text but will not be implemented in this repository. Therefore, we can check the distribution of the number tokens for this field. "
   ]
  },
  {
   "cell_type": "code",
   "execution_count": 9,
   "metadata": {},
   "outputs": [
    {
     "name": "stdout",
     "output_type": "stream",
     "text": [
      "{\n",
      "  \"architectures\": [\n",
      "    \"BertForMaskedLM\"\n",
      "  ],\n",
      "  \"attention_probs_dropout_prob\": 0.1,\n",
      "  \"gradient_checkpointing\": false,\n",
      "  \"hidden_act\": \"gelu\",\n",
      "  \"hidden_dropout_prob\": 0.1,\n",
      "  \"hidden_size\": 768,\n",
      "  \"initializer_range\": 0.02,\n",
      "  \"intermediate_size\": 3072,\n",
      "  \"layer_norm_eps\": 1e-12,\n",
      "  \"max_position_embeddings\": 512,\n",
      "  \"model_type\": \"bert\",\n",
      "  \"num_attention_heads\": 12,\n",
      "  \"num_hidden_layers\": 12,\n",
      "  \"pad_token_id\": 0,\n",
      "  \"position_embedding_type\": \"absolute\",\n",
      "  \"transformers_version\": \"4.6.0.dev0\",\n",
      "  \"type_vocab_size\": 2,\n",
      "  \"use_cache\": true,\n",
      "  \"vocab_size\": 30522\n",
      "}\n"
     ]
    },
    {
     "data": {
      "text/plain": [
       "0"
      ]
     },
     "execution_count": 9,
     "metadata": {},
     "output_type": "execute_result"
    }
   ],
   "source": [
    "# Load the tokenizer\n",
    "tokenizer = AutoTokenizer.from_pretrained(f'{PATHS[\"hf_cache\"]}/'\n",
    "                                          f'{model_name}')\n",
    "\n",
    "# View the Model configuration JSON\n",
    "os.system(f'cat {PATHS[\"hf_cache\"]}/{model_name}/config.json')"
   ]
  },
  {
   "cell_type": "markdown",
   "metadata": {},
   "source": [
    "Notice the 512 in the `max_position_embeddings` parameter for the BERT model. BERT can only take input sequences up to 512 tokens in length. There are solutions for handling longer text as discussed in this article by [Salt Data Labs](https://www.saltdatalabs.com/blog/bert-how-to-handle-long-documents#:~:text=However%2C%20BERT%20can%20only%20take,much%20longer%20than%20512%20words.).\n",
    "\n",
    "To speedup the calculations the Torch Dataset and DataLoader modules will be used which allows for multi-core processing using parameter `num_workers`. This provides over a 8X speed up on my computer versus using a simple pandas.apply() function call (i.e., single core use)."
   ]
  },
  {
   "cell_type": "code",
   "execution_count": 10,
   "metadata": {},
   "outputs": [
    {
     "name": "stdout",
     "output_type": "stream",
     "text": [
      "Number of token distribution:\n"
     ]
    },
    {
     "data": {
      "text/plain": [
       "count    219430.000000\n",
       "mean        220.462913\n",
       "std         246.707429\n",
       "min           3.000000\n",
       "25%          81.000000\n",
       "50%         151.000000\n",
       "75%         275.000000\n",
       "max        9498.000000\n",
       "Name: num_tokens, dtype: float64"
      ]
     },
     "metadata": {},
     "output_type": "display_data"
    },
    {
     "data": {
      "image/png": "[encoded data removed]",
      "text/plain": [
       "<Figure size 640x480 with 1 Axes>"
      ]
     },
     "metadata": {},
     "output_type": "display_data"
    }
   ],
   "source": [
    "class CountTokens(Dataset):\n",
    "    def __init__(self, texts, tok):\n",
    "        self.texts = texts\n",
    "        self.tok = tok\n",
    "        \n",
    "    def __len__(self):\n",
    "        return len(self.texts)\n",
    "    \n",
    "    def __getitem__(self, item):\n",
    "        # Number of tokens in string\n",
    "        values = self.tok.encode_plus(text=self.texts[item],\n",
    "                                      padding=False,\n",
    "                                      truncation=False)\n",
    "        return len(values['input_ids'])\n",
    "\n",
    "# Temporary Dataframe\n",
    "tmp = data[source_fields[0]].copy().to_frame()\n",
    "\n",
    "# Datasets and dataloaders\n",
    "tokens_dataset = CountTokens(texts=tmp[source_fields[0]].values,\n",
    "                             tok=tokenizer)\n",
    "tokens_dataloader = DataLoader(tokens_dataset,\n",
    "                               batch_size=1_024,\n",
    "                               shuffle=False,\n",
    "                               num_workers=8)\n",
    "\n",
    "# Count number of tokens in dataframe\n",
    "num_tokens = []\n",
    "for count, token_lengths in enumerate(tokens_dataloader):\n",
    "    num_tokens.extend(token_lengths.numpy().tolist())\n",
    "tmp['num_tokens'] = num_tokens\n",
    "print('Number of token distribution:')\n",
    "display(tmp.num_tokens.describe())\n",
    "tmp.num_tokens.plot(kind='hist', bins=25)\n",
    "plt.show()\n",
    "del tmp"
   ]
  },
  {
   "cell_type": "markdown",
   "metadata": {},
   "source": [
    "# Save Data to Disk\n",
    "\n",
    "The preprocessed data being saved below will be used for modeling."
   ]
  },
  {
   "cell_type": "code",
   "execution_count": 11,
   "metadata": {},
   "outputs": [
    {
     "name": "stdout",
     "output_type": "stream",
     "text": [
      "CFPB Data Shape: (219,430, 4)\n"
     ]
    }
   ],
   "source": [
    "# Reduce the data to only the necessary columns\n",
    "data = data[source_fields + [target]]\n",
    "\n",
    "# Save preprocessed data\n",
    "data.to_csv(PATHS['save_processed_data'], index=False)\n",
    "print(f'CFPB Data Shape: ({data.shape[0]:,}, {data.shape[1]})')"
   ]
  },
  {
   "cell_type": "code",
   "execution_count": 12,
   "metadata": {},
   "outputs": [
    {
     "name": "stdout",
     "output_type": "stream",
     "text": [
      "Num. of Instances in Debug Data: 20\n"
     ]
    }
   ],
   "source": [
    "# Downsample data to a much smaller size\n",
    "# This data will be quicker for all operations when debugging code\n",
    "prod_uniques = data.Product.unique()\n",
    "\n",
    "# Sample 5 instances for each value in Product\n",
    "# Product has 18 unique values; therefore 18 * 5 = 90 instances\n",
    "data_debug = None\n",
    "for prod_value in prod_uniques:\n",
    "    tmp = data[data.Product == prod_value].iloc[0:5, :]\n",
    "    if data_debug is None:\n",
    "        data_debug = tmp\n",
    "    else:\n",
    "        data_debug = pd.concat([data_debug, tmp],\n",
    "                               ignore_index=True)\n",
    "# Shuffle the rows\n",
    "data_debug = data_debug.sample(frac=1)\n",
    "print(f'Num. of Instances in Debug Data: {len(data_debug):,}')\n",
    "\n",
    "data_debug.to_csv(PATHS['save_debug_data'], index=False)"
   ]
  },
  {
   "cell_type": "markdown",
   "metadata": {},
   "source": [
    "# Save Reduced Data to Disk\n",
    "\n",
    "This dataset will be used for experimenting/demos because it takes a long time to process the full ~386K datatset."
   ]
  },
  {
   "cell_type": "code",
   "execution_count": 13,
   "metadata": {},
   "outputs": [
    {
     "name": "stdout",
     "output_type": "stream",
     "text": [
      "Num. of Instances in Partial Data: 4,000\n"
     ]
    }
   ],
   "source": [
    "# Downsample data to a much smaller size\n",
    "# This data will be quicker for all operations when debugging code\n",
    "prod_uniques = data.Product.unique()\n",
    "N = 1_000\n",
    "# Sample 5 instances for each value in Product\n",
    "# Product has 18 unique values; therefore 18 * 5 = 90 instances\n",
    "data_partial = None\n",
    "for prod_value in prod_uniques:\n",
    "    tmp = data[data.Product == prod_value].iloc[0:1_000, :]\n",
    "    if data_partial is None:\n",
    "        data_partial = tmp\n",
    "    else:\n",
    "        data_partial = pd.concat([data_partial, tmp],\n",
    "                                 ignore_index=True)\n",
    "# Shuffle the rows\n",
    "data_partial = data_partial.sample(frac=1)\n",
    "print(f'Num. of Instances in Partial Data: {len(data_partial):,}')\n",
    "\n",
    "data_partial.to_csv(PATHS['save_partial_data'], index=False)"
   ]
  },
  {
   "cell_type": "markdown",
   "metadata": {},
   "source": [
    "# Summary\n",
    "\n",
    "- **DATA**:\n",
    "    - Number of Independent variables = 3\n",
    "        - `Consumer complaint narrative`: string of unstructured text and all instances are unique \n",
    "        - `State`: categorical with 62 unique values\n",
    "        - `Company response to consumer`: categorical with 8 unique values\n",
    "    - Dependent Variable = `Product`\n",
    "        - `Product`: categorical with 18 unique values\n",
    "    - Two datasets were created for modeling:\n",
    "        - `Primary` dataset has ~386K instances\n",
    "        - `Debug` dataset with 90 instances\n",
    "        - `Partial` dataset with ~16K instances for faster processing\n",
    "- **NOTES**: \n",
    "    - No emphasis was placed on selecting optimal independent variables for modeling because the focus of this repository is to highlight a workflow. Mixed data types (i.e., text and categorical variables) were selected to demonstrate their usage during modeling.\n"
   ]
  },
  {
   "cell_type": "markdown",
   "metadata": {},
   "source": []
  }
 ],
 "metadata": {
  "kernelspec": {
   "display_name": ".venv",
   "language": "python",
   "name": "python3"
  },
  "language_info": {
   "codemirror_mode": {
    "name": "ipython",
    "version": 3
   },
   "file_extension": ".py",
   "mimetype": "text/x-python",
   "name": "python",
   "nbconvert_exporter": "python",
   "pygments_lexer": "ipython3",
   "version": "3.10.6"
  },
  "orig_nbformat": 4
 },
 "nbformat": 4,
 "nbformat_minor": 2
}
