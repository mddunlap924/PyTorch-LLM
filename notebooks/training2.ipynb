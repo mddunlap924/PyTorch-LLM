{
 "cells": [
  {
   "cell_type": "markdown",
   "metadata": {},
   "source": [
    "# Model Training\n",
    "- Author: Myles Dunlap\n",
    "\n",
    "\n",
    "This notebook is used to train a model using a single configuration file. The steps in this notebook are used in the Python script."
   ]
  },
  {
   "cell_type": "markdown",
   "metadata": {},
   "source": [
    "# User Inputs"
   ]
  },
  {
   "cell_type": "code",
   "execution_count": 1,
   "metadata": {},
   "outputs": [],
   "source": [
    "# Append the path for the custom modules\n",
    "path_custom_modules = '../'\n",
    "\n",
    "# Path to the YAML config. file\n",
    "path_cfg = {'base_dir': '../cfgs',\n",
    "            'filename': 'train-0-notebook.yaml'}"
   ]
  },
  {
   "cell_type": "markdown",
   "metadata": {},
   "source": [
    "# Import Libraries and Modules"
   ]
  },
  {
   "cell_type": "code",
   "execution_count": 2,
   "metadata": {},
   "outputs": [],
   "source": [
    "# Libraries\n",
    "import os\n",
    "import sys\n",
    "from pathlib import Path\n",
    "import gc\n",
    "from transformers import AutoTokenizer\n",
    "import torch\n",
    "\n",
    "# Append Path to Custom Modules if Needed\n",
    "sys.path.append('../')\n",
    "\n",
    "# Custom Modules\n",
    "from src.utils import (seed_everything,\n",
    "                       load_cfg,\n",
    "                       RunIDs,\n",
    "                       debugger_is_active,\n",
    "                       plot_perf_metric_to_disk)\n",
    "from src.dataloading.load_data import LoadData\n",
    "from src.dataloading.stratify import StratifyData\n",
    "from src.dataloading.preprocess import PreprocessData\n",
    "from src.dataloading.load_datasets import (CustomTextCollator,\n",
    "                                           get_ds_dl,\n",
    "                                           )\n",
    "from src.training.single_fold import train_fold\n",
    "from src.training.single_fold import train_fold\n",
    "\n",
    "# Setup HF env. variables\n",
    "os.environ['TRANSFORMERS_OFFLINE'] = '1'\n",
    "os.environ['TOKENIZERS_PARALLELISM'] = 'True'\n",
    "os.environ['TRANSFORMERS_NO_ADVISORY_WARNINGS'] = 'true'"
   ]
  },
  {
   "cell_type": "markdown",
   "metadata": {},
   "source": [
    "# Load Config. and Setup\n",
    "\n",
    "This section if focused on:\n",
    "- loading the config. file,\n",
    "- setting up directories for saving results, \n",
    "- seeding."
   ]
  },
  {
   "cell_type": "code",
   "execution_count": 3,
   "metadata": {},
   "outputs": [
    {
     "name": "stdout",
     "output_type": "stream",
     "text": [
      "Group ID: fca00557\n",
      "ID for Testing Fold #1: ba6c1f62\n",
      "\tFull/Entire ID: fca00557-ba6c1f62\n"
     ]
    }
   ],
   "source": [
    "# Seed Everything\n",
    "SEED = 42\n",
    "seed_everything(seed=SEED)\n",
    "\n",
    "# Get Device type for processing\n",
    "DEVICE = torch.device('cuda' if torch.cuda.is_available() else 'cpu')\n",
    "\n",
    "# Load the configuration file\n",
    "CFG = load_cfg(base_dir=Path(path_cfg['base_dir']),\n",
    "               filename=path_cfg['filename'])\n",
    "\n",
    "# Create directories for saving results and use unique Group ID\n",
    "run_ids = RunIDs(test_folds=CFG.cv.val_folds,\n",
    "                    num_folds=CFG.cv.num_folds,\n",
    "                    save_dir=CFG.paths.save_results.base_dir,\n",
    "                    save_results=CFG.paths.save_results.apply_metric)\n",
    "run_ids.generate_run_ids()\n",
    "\n",
    "# Print the group id and ids for each fold\n",
    "print(f'Group ID: {run_ids.group_id}')\n",
    "for fold_num in CFG.cv.val_folds:\n",
    "    fold_id = getattr(run_ids.folds_id,\n",
    "                      f'fold{fold_num}').run_id\n",
    "    entire_id = f'{run_ids.group_id}-{fold_id}' \n",
    "    print((f'ID for Testing Fold #{fold_num}: '\n",
    "           f'{fold_id}\\n\\tFull/Entire ID: {entire_id}'))"
   ]
  },
  {
   "cell_type": "markdown",
   "metadata": {},
   "source": [
    "# Workflow\n",
    "\n",
    "The primary workflow begins in this section. Notice that prior to this section the key piece of information obtained is the configuration file. If multiple configurations needed to be processed this would be the entry point for those configuration files. For example, in the [training Python script](../scripts/train_model.py) for automating over various configuration files the workflow section is introduced with the `workflow` function.\n",
    "\n",
    "Note: Only one fold of data will be analyzed in the notebook since this is for demonstration purposes. In the [training Python script](../scripts/train_model.py) all folds are trained."
   ]
  },
  {
   "cell_type": "code",
   "execution_count": 4,
   "metadata": {},
   "outputs": [
    {
     "data": {
      "text/html": [
       "<div>\n",
       "<style scoped>\n",
       "    .dataframe tbody tr th:only-of-type {\n",
       "        vertical-align: middle;\n",
       "    }\n",
       "\n",
       "    .dataframe tbody tr th {\n",
       "        vertical-align: top;\n",
       "    }\n",
       "\n",
       "    .dataframe thead th {\n",
       "        text-align: right;\n",
       "    }\n",
       "</style>\n",
       "<table border=\"1\" class=\"dataframe\">\n",
       "  <thead>\n",
       "    <tr style=\"text-align: right;\">\n",
       "      <th></th>\n",
       "      <th>Consumer complaint narrative</th>\n",
       "      <th>ZIP code</th>\n",
       "      <th>Sub-issue</th>\n",
       "      <th>Product</th>\n",
       "      <th>fold</th>\n",
       "    </tr>\n",
       "  </thead>\n",
       "  <tbody>\n",
       "    <tr>\n",
       "      <th>0</th>\n",
       "      <td>I currently have 5 direct loans serviced throu...</td>\n",
       "      <td>851XX</td>\n",
       "      <td>Trouble with how payments are being handled</td>\n",
       "      <td>Student loan</td>\n",
       "      <td>1</td>\n",
       "    </tr>\n",
       "    <tr>\n",
       "      <th>1</th>\n",
       "      <td>Performed XXXX procedures on my sons XXXX that...</td>\n",
       "      <td>761XX</td>\n",
       "      <td>Attempted to collect wrong amount</td>\n",
       "      <td>Debt collection</td>\n",
       "      <td>1</td>\n",
       "    </tr>\n",
       "    <tr>\n",
       "      <th>2</th>\n",
       "      <td>I have a 48 month lease with US Bank on a bran...</td>\n",
       "      <td>926XX</td>\n",
       "      <td>Problem while selling or giving up the vehicle</td>\n",
       "      <td>Vehicle loan or lease</td>\n",
       "      <td>1</td>\n",
       "    </tr>\n",
       "    <tr>\n",
       "      <th>3</th>\n",
       "      <td>On XX/XX/2019 i logged into my account to make...</td>\n",
       "      <td>30122</td>\n",
       "      <td>Company closed your account</td>\n",
       "      <td>Credit card or prepaid card</td>\n",
       "      <td>1</td>\n",
       "    </tr>\n",
       "    <tr>\n",
       "      <th>4</th>\n",
       "      <td>I recently checked my credit reports and saw t...</td>\n",
       "      <td>190XX</td>\n",
       "      <td>Their investigation did not fix an error on yo...</td>\n",
       "      <td>Vehicle loan or lease</td>\n",
       "      <td>1</td>\n",
       "    </tr>\n",
       "  </tbody>\n",
       "</table>\n",
       "</div>"
      ],
      "text/plain": [
       "                        Consumer complaint narrative ZIP code  \\\n",
       "0  I currently have 5 direct loans serviced throu...    851XX   \n",
       "1  Performed XXXX procedures on my sons XXXX that...    761XX   \n",
       "2  I have a 48 month lease with US Bank on a bran...    926XX   \n",
       "3  On XX/XX/2019 i logged into my account to make...    30122   \n",
       "4  I recently checked my credit reports and saw t...    190XX   \n",
       "\n",
       "                                           Sub-issue  \\\n",
       "0        Trouble with how payments are being handled   \n",
       "1                  Attempted to collect wrong amount   \n",
       "2     Problem while selling or giving up the vehicle   \n",
       "3                        Company closed your account   \n",
       "4  Their investigation did not fix an error on yo...   \n",
       "\n",
       "                       Product  fold  \n",
       "0                 Student loan     1  \n",
       "1              Debt collection     1  \n",
       "2        Vehicle loan or lease     1  \n",
       "3  Credit card or prepaid card     1  \n",
       "4        Vehicle loan or lease     1  "
      ]
     },
     "metadata": {},
     "output_type": "display_data"
    },
    {
     "name": "stdout",
     "output_type": "stream",
     "text": [
      "Distribution of a Product for Each Fold\n",
      "Notice how the quantities are evenly distributed across folds\n"
     ]
    },
    {
     "data": {
      "text/plain": [
       "Product                      fold\n",
       "Credit card or prepaid card  1       400\n",
       "                             2       400\n",
       "                             3       400\n",
       "                             4       400\n",
       "                             5       400\n",
       "Name: count, dtype: int64"
      ]
     },
     "metadata": {},
     "output_type": "display_data"
    }
   ],
   "source": [
    "# Load Data from Disk\n",
    "load_data_file = LoadData(base_dir=CFG.paths.data.base_dir)\n",
    "data = load_data_file.load(filename=CFG.paths.data.data)\n",
    "\n",
    "# Stratify the Data\n",
    "data = (StratifyData(technique=CFG.stratify.technique,\n",
    "                     n_folds=CFG.cv.num_folds,\n",
    "                     target=CFG.data_info.target)\n",
    "        .stratify(df=data))\n",
    "\n",
    "# Input and target field names\n",
    "cols = CFG.data_info.source_fields + \\\n",
    "       [CFG.data_info.target, 'fold']\n",
    "\n",
    "# Train a model for one validation fold\n",
    "fold_num = CFG.cv.val_folds[0]\n",
    "\n",
    "# Print information\n",
    "display(data[cols].head(5))\n",
    "print(f'Distribution of a Product for Each Fold')\n",
    "print(f'Notice how the quantities are evenly distributed across folds')\n",
    "display(data.groupby('Product').fold.value_counts()\n",
    "        .sort_index().head(5))"
   ]
  },
  {
   "cell_type": "code",
   "execution_count": 5,
   "metadata": {},
   "outputs": [
    {
     "name": "stdout",
     "output_type": "stream",
     "text": [
      "Number of Instances:\n",
      "\tTrain: 8,000\n",
      "\tVal.: 2,000\n"
     ]
    }
   ],
   "source": [
    "# Split Data into Training and Validation\n",
    "df_train = data.copy()[data.fold != fold_num].reset_index(drop=True)\n",
    "df_val = data.copy()[data.fold == fold_num].reset_index(drop=True)\n",
    "print('Number of Instances:')\n",
    "print(f'\\tTrain: {len(df_train):,}')\n",
    "print(f'\\tVal.: {len(df_val):,}')"
   ]
  },
  {
   "cell_type": "markdown",
   "metadata": {},
   "source": [
    "# Preprocess Target\n",
    "\n",
    "Convert the text target into a label."
   ]
  },
  {
   "cell_type": "code",
   "execution_count": 6,
   "metadata": {},
   "outputs": [
    {
     "name": "stdout",
     "output_type": "stream",
     "text": [
      "{'Product': {'encoder': LabelEncoder(), 'technique': 'LabelEncoder'}}\n"
     ]
    }
   ],
   "source": [
    "# Preprocessing Encoders\n",
    "encoders = {}\n",
    "for technique in CFG.preprocessing.apply_techniques:\n",
    "    fields = getattr(CFG.preprocessing, technique).fields\n",
    "    for col in fields:\n",
    "        enc = PreprocessData(y=df_train[col].values,\n",
    "                            technique=technique)\n",
    "        encoders[col] = {'encoder': enc.encoder,\n",
    "                        'technique': technique}\n",
    "print(encoders)"
   ]
  },
  {
   "cell_type": "markdown",
   "metadata": {},
   "source": [
    "# Tokenizer and Collator\n",
    "\n",
    "A collator is an object that forms a batch of data by using a list of dataset elements as inputs. \n",
    "\n",
    "The module [load_datasets.py](../src/dataloading/load_datasets.py) has a custom collator class used here and it has several benefits such as:\n",
    "- The data does **NOT** have to be tokenized prior to being passed to the PyTorch DataLoader class. Lots of online examples show the data already tokenized before going into a dataloader. Using the approach in this repo. means the text data is tokenized once a batch of data is processed in the DataLoader class and it allows for RAM usage to stay lower. For example, if your dataset exceeds the available RAM size then tokenizing all the data prior to the DataLoader (e.g., in the Dataset class) could become problematic.\n",
    "- Using a custom collator enables dynamic padding over the batches. Later the maximum token length for a few batches will be printed to illustrate dynamic padding. This ultimately leads to faster processing of data as explained in this [HuggingFace YouTube video](https://www.youtube.com/watch?v=7q5NyFT8REg)."
   ]
  },
  {
   "cell_type": "code",
   "execution_count": 7,
   "metadata": {},
   "outputs": [],
   "source": [
    "# Path to the model and tokenizer model card saved on disk\n",
    "model_path = Path(CFG.model_tokenizer.base_dir) / CFG.model_tokenizer.name\n",
    "\n",
    "# Load the tokenizer\n",
    "tokenizer = AutoTokenizer.from_pretrained(model_path, do_lower=True)\n",
    "\n",
    "# Collator\n",
    "collator = CustomTextCollator(tokenizer=tokenizer,\n",
    "                              tokenizer_cfg=CFG.tokenizer)"
   ]
  },
  {
   "cell_type": "markdown",
   "metadata": {},
   "source": [
    "# Datasets and DataLoaders\n",
    "## Combine Mixed data type fields\n",
    "\n",
    "In this [blob post by Chris McCormick](https://mccormickml.com/2021/06/29/combining-categorical-numerical-features-with-bert/) an interesting approach was taken to combine mixed data types which was to convert all categorical and numerical into the text feed into the LLM. This technique is used in this repository as shown in the `TrainDataset` class in the module [load_dataset.py](../src/dataloading/load_datasets.py). \n",
    "\n",
    "Another approach is only pass the unstructured text into the LLM, take its last layer output and combine with the other mixed data types into a dense layer. This type of approach seems more common and an example can be found on [Google Colab here](https://colab.research.google.com/drive/1F7COnwHqcLDPg_SS-oFgW3c2GPDWnS5Y#scrollTo=BAQFbN-wBpoz).\n",
    "\n",
    "As a reminder this data has `categorical` and `unstructued` input fields that will be combined. More information on these variables can be found in the [eda.ipynb](./eda.ipynb) notebook and summarized below for convenience:\n",
    "\n",
    "- Number of Independent variables = 3\n",
    "    - `Consumer complaint narrative`: string of unstructured text and all instances are unique \n",
    "    - `ZIP code`: a categorical variable with high cardinality (i.e., > 20K unique values)\n",
    "    - `Sub-issues`: a categorical variable with 63 unique values\n",
    "- Dependent Variable = `Product`\n",
    "    - `Product`: categorical with 5 unique values"
   ]
  },
  {
   "cell_type": "code",
   "execution_count": 8,
   "metadata": {},
   "outputs": [
    {
     "name": "stdout",
     "output_type": "stream",
     "text": [
      "# of Training Samples: 8,000\n",
      "# of Validation Samples: 2,000\n",
      "Batch Size: 16\n",
      "8,000 \\ 16 = 500\n",
      "Train DataLoader # of Iters: 500\n",
      "Val. DataLoader # of Iters: 125\n",
      "\n",
      "Dynamic Padding\n",
      "\tThe shape is [batch size, maximum token length]\n",
      "Batch 1 of 500: torch.Size([16, 512])\n",
      "Batch 2 of 500: torch.Size([16, 512])\n",
      "Batch 3 of 500: torch.Size([16, 512])\n",
      "Batch 4 of 500: torch.Size([16, 512])\n",
      "Batch 5 of 500: torch.Size([16, 512])\n",
      "Batch 6 of 500: torch.Size([16, 512])\n",
      "Batch 7 of 500: torch.Size([16, 512])\n",
      "Batch 8 of 500: torch.Size([16, 512])\n",
      "Batch 9 of 500: torch.Size([16, 512])\n",
      "Batch 10 of 500: torch.Size([16, 512])\n",
      "Batch 11 of 500: torch.Size([16, 512])\n",
      "Batch of data keys:\n",
      "dict_keys(['input_ids', 'token_type_ids', 'attention_mask', 'labels'])\n"
     ]
    }
   ],
   "source": [
    "# Train Dataset and Dataloader\n",
    "(_,\n",
    "train_dataloader) = get_ds_dl(df=df_train,\n",
    "                              cfg=CFG,\n",
    "                              tokenizer=tokenizer,\n",
    "                              encoder=encoders[CFG.data_info.target]['encoder'],\n",
    "                              collator=collator)\n",
    "# Validation Dataset and Dataloader\n",
    "(_,\n",
    "val_dataloader) = get_ds_dl(df=df_val,\n",
    "                            cfg=CFG,\n",
    "                            tokenizer=tokenizer,\n",
    "                            encoder=encoders[CFG.data_info.target]['encoder'],\n",
    "                            collator=collator)\n",
    "\n",
    "print(f'# of Training Samples: {len(df_train):,}')\n",
    "print(f'# of Validation Samples: {len(df_val):,}')\n",
    "print(f'Batch Size: {CFG.batch_size}')\n",
    "print(f'{len(df_train):,} \\ {CFG.batch_size:,} = {len(train_dataloader):,}')\n",
    "print(f'Train DataLoader # of Iters: {len(train_dataloader):,}')\n",
    "print(f'Val. DataLoader # of Iters: {len(val_dataloader):,}')\n",
    "\n",
    "# Dynamic Padding of Maximum Token Lengths\n",
    "print(f'\\nDynamic Padding\\n\\tThe shape is [batch size, maximum token length]')\n",
    "for i, inputs in enumerate(train_dataloader):\n",
    "    if i > 10:\n",
    "        break\n",
    "    else:\n",
    "        print((f'Batch {i + 1} of {len(train_dataloader):,}: '\n",
    "               f'{inputs[\"input_ids\"].shape}'))\n",
    "\n",
    "# Display output from dataloader\n",
    "print(f'Batch of data keys:\\n{inputs.keys()}')"
   ]
  },
  {
   "cell_type": "markdown",
   "metadata": {},
   "source": [
    "# Learning Rate Finder and Scheduler\n",
    "\n",
    "This section will look at useful tools to help with determining a learning rate before training the mode."
   ]
  },
  {
   "cell_type": "markdown",
   "metadata": {},
   "source": [
    "### Learning Rate Finder\n",
    "\n",
    "A [PyTorch implementation](https://pypi.org/project/torch-lr-finder/) of the learning rate range test detailed in Cyclical Learning Rates for Training Neural Networks by Leslie N. Smith and the tweaked version used by fastai."
   ]
  },
  {
   "cell_type": "code",
   "execution_count": null,
   "metadata": {},
   "outputs": [],
   "source": []
  },
  {
   "cell_type": "code",
   "execution_count": 9,
   "metadata": {},
   "outputs": [],
   "source": [
    "from torch_lr_finder import LRFinder, TrainDataLoaderIter\n",
    "from torch import nn\n",
    "from torch.optim import AdamW\n",
    "from IPython.display import clear_output\n",
    "from src.models.llm_multiclass import CustomModel\n",
    "from src.training.optimizers import get_optimizer\n",
    "\n",
    "# Load custom model\n",
    "model = CustomModel(llm_model_path=model_path,\n",
    "                    cfg=CFG.model,\n",
    "                    num_classes=df_train[CFG.data_info.target].nunique())\n",
    "\n",
    "# Set model on device\n",
    "model.to(DEVICE)\n",
    "clear_output()\n",
    "\n",
    "\n",
    "# class TrainIter(TrainDataLoaderIter):\n",
    "#     def inputs_labels_from_batch(self, batch):\n",
    "#         return ({'input_ids': batch['input_ids'],\n",
    "#                  'attention_mask': batch['attention_mask']},\n",
    "#                 batch['labels'])\n",
    "# train_data_iter = TrainIter(train_dataloader)\n",
    "\n",
    "# # Learning Rate Finder\n",
    "# lr_finder = LRFinder(model,\n",
    "#                      AdamW(filter(lambda p: p.requires_grad, model.parameters())),\n",
    "#                      nn.CrossEntropyLoss(),\n",
    "#                      device=\"cuda\")\n",
    "# lr_finder.range_test(train_data_iter,\n",
    "#                      start_lr=1.0e-8,\n",
    "#                      end_lr=5.0e-4,\n",
    "#                      num_iter=100,\n",
    "#                      step_mode=\"linear\")\n",
    "# lr_finder.plot(log_lr=False)\n",
    "# lr_finder.reset()"
   ]
  },
  {
   "cell_type": "markdown",
   "metadata": {},
   "source": [
    "A few notes in the above learning rate finder plot:\n",
    "- The upper bound is ~3.0E-4 so learning rates above this will cause erratic behavior.\n",
    "- The lower bound is <1.0E-4 where learning may not occur as quickly.\n",
    "- This is a rather tight range for the learning rate and could be investigated further.\n",
    "\n",
    "In experiments not shown in the notebook it was found that setting a learning rate >=1.0E-3 caused the model to not learn and converge to predicting a single class."
   ]
  },
  {
   "cell_type": "markdown",
   "metadata": {},
   "source": [
    "### Learning Rate Scheduler\n",
    "\n",
    "Learning rate schedulers can be used to help an algorithm converge to a more optimal solution. Please refer to this references for more information and a visual representation of various learning rate schedules.\n",
    " - [Medium Article](https://towardsdatascience.com/a-visual-guide-to-learning-rate-schedulers-in-pytorch-24bbb262c863)\n",
    " - [Kaggle Notebook](https://www.kaggle.com/code/isbhargav/guide-to-pytorch-learning-rate-scheduling)"
   ]
  },
  {
   "cell_type": "code",
   "execution_count": 10,
   "metadata": {},
   "outputs": [
    {
     "data": {
      "image/png": "[encoded data removed]",
      "text/plain": [
       "<Figure size 640x480 with 1 Axes>"
      ]
     },
     "metadata": {},
     "output_type": "display_data"
    }
   ],
   "source": [
    "from torch.optim.lr_scheduler import CosineAnnealingLR, OneCycleLR\n",
    "import matplotlib.pyplot as plt\n",
    "\n",
    "# Optimizer\n",
    "optimizer = get_optimizer(cfg=CFG.optimizer,\n",
    "                          model=model)\n",
    "\n",
    "# Learning rate scheduler\n",
    "# scheduler = OneCycleLR(optimizer=optimizer,\n",
    "#                        total_steps=total_steps,\n",
    "#                        max_lr=CFG.optimizer.lr.max)\n",
    "\n",
    "scheduler = CosineAnnealingLR(optimizer,\n",
    "                              T_max=CFG.epochs * len(train_dataloader),\n",
    "                              eta_min=CFG.lr_scheduler.CosineAnnealingLR.eta_min)\n",
    "lr_value = []\n",
    "steps = []\n",
    "step_count = 0\n",
    "for epoch in range(CFG.epochs):\n",
    "    for batch_count in range(len(train_dataloader)):\n",
    "        optimizer.step()\n",
    "        lr_value.append(optimizer.param_groups[0]['lr'])\n",
    "        steps.append(step_count)\n",
    "        scheduler.step()\n",
    "        step_count +=1\n",
    "\n",
    "# Plot Learning Rate Schedule\n",
    "plt.plot(steps, lr_value)\n",
    "plt.xlabel('Steps')\n",
    "plt.ylabel('Learning Rate')\n",
    "plt.show()"
   ]
  },
  {
   "cell_type": "code",
   "execution_count": 13,
   "metadata": {},
   "outputs": [],
   "source": [
    "import gc\n",
    "# Set model to none to free GPU memory\n",
    "model = None\n",
    "\n",
    "# Clean up memory and variables\n",
    "del (model, optimizer, scheduler, lr_value,\n",
    "     steps, step_count,\n",
    "    #  lr_finder, train_data_iter,\n",
    "     )\n",
    "\n",
    "# Release cached memory\n",
    "torch.cuda.empty_cache()\n",
    "_ = gc.collect()\n"
   ]
  },
  {
   "cell_type": "markdown",
   "metadata": {},
   "source": [
    "# Train the Model\n",
    "\n",
    "The process of training the model for a single fold of data is conducted by the module [single_fold.py](../src/training/single_fold.py).\n",
    "\n",
    "The performance metrics `perf_metrics` are both the training and validation performance scores for f1, precision, recall, and loss at each epoch. \n",
    "\n",
    "### References\n",
    "- Loss Functions\n",
    "    - [Machine Learning Mastery](https://machinelearningmastery.com/how-to-choose-loss-functions-when-training-deep-learning-neural-networks/)\n",
    "    - [Neptune AI Article](https://neptune.ai/blog/pytorch-loss-functions)\n",
    "    - [PyTorch Loss Functions](https://pytorch.org/docs/stable/nn.html#loss-functions)\n",
    "    - Since this is a multi-class classification we can use nn.CrossEntropyLoss as the loss function. More elborate modules can be built for selecting and creating custom loss functions.\n",
    "\n",
    "-   Performance Metrics\n",
    "    - [TorchMetrics](https://torchmetrics.readthedocs.io/en/latest/) will be used for implementing performance metrics.\n",
    "    - [F1-Score](https://torchmetrics.readthedocs.io/en/stable/classification/f1_score.html)\n",
    "    - [Precision]()\n",
    "    - [Recall]()\n"
   ]
  },
  {
   "cell_type": "code",
   "execution_count": 11,
   "metadata": {},
   "outputs": [],
   "source": [
    "# # Path to save model results\n",
    "# model_save_path = getattr(run_ids.folds_id, f'fold{fold_num}').path\n",
    "\n",
    "# # Training for a single fold\n",
    "# perf_metrics = train_fold(train_dl=train_dataloader,\n",
    "#                           val_dl=val_dataloader,\n",
    "#                           cfg=CFG,\n",
    "#                           device=DEVICE,\n",
    "#                           n_classes=df_train[CFG.data_info.target].nunique(),\n",
    "#                           model_save_path=model_save_path)"
   ]
  },
  {
   "cell_type": "markdown",
   "metadata": {},
   "source": [
    "# Visualize Learning Curves"
   ]
  },
  {
   "cell_type": "code",
   "execution_count": null,
   "metadata": {},
   "outputs": [],
   "source": []
  },
  {
   "cell_type": "code",
   "execution_count": null,
   "metadata": {},
   "outputs": [],
   "source": []
  },
  {
   "cell_type": "code",
   "execution_count": 12,
   "metadata": {},
   "outputs": [],
   "source": [
    "# from sklearn.utils.class_weight import compute_class_weight\n",
    "# import numpy as np\n",
    "\n",
    "# #compute the class weights\n",
    "# train_labels = encoders['Product']['encoder'].transform(df_train['Product'])\n",
    "# class_wts = compute_class_weight('balanced',\n",
    "#                                  classes=np.unique(train_labels),\n",
    "#                                  y=train_labels)\n",
    "\n",
    "# # convert class weights to tensor\n",
    "# weights= torch.tensor(class_wts, dtype=torch.float)\n",
    "# weights = weights.to(DEVICE)"
   ]
  }
 ],
 "metadata": {
  "kernelspec": {
   "display_name": ".venv",
   "language": "python",
   "name": "python3"
  },
  "language_info": {
   "codemirror_mode": {
    "name": "ipython",
    "version": 3
   },
   "file_extension": ".py",
   "mimetype": "text/x-python",
   "name": "python",
   "nbconvert_exporter": "python",
   "pygments_lexer": "ipython3",
   "version": "3.10.6"
  },
  "orig_nbformat": 4
 },
 "nbformat": 4,
 "nbformat_minor": 2
}
