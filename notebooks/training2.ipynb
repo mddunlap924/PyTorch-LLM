{
 "cells": [
  {
   "cell_type": "markdown",
   "metadata": {},
   "source": [
    "# Model Training\n",
    "- Author: Myles Dunlap\n",
    "\n",
    "\n",
    "This notebook is used to train a model using a single configuration file. The steps in this notebook are used in the Python script."
   ]
  },
  {
   "cell_type": "markdown",
   "metadata": {},
   "source": [
    "# User Inputs"
   ]
  },
  {
   "cell_type": "code",
   "execution_count": 16,
   "metadata": {},
   "outputs": [],
   "source": [
    "# Append the path for the custom modules\n",
    "path_custom_modules = '../'\n",
    "\n",
    "# Path to the YAML config. file\n",
    "path_cfg = {'base_dir': '../cfgs',\n",
    "            'filename': 'train-0.yaml'}"
   ]
  },
  {
   "cell_type": "markdown",
   "metadata": {},
   "source": [
    "# Import Libraries and Modules"
   ]
  },
  {
   "cell_type": "code",
   "execution_count": 17,
   "metadata": {},
   "outputs": [],
   "source": [
    "# Libraries\n",
    "import sys\n",
    "import os\n",
    "from pathlib import Path\n",
    "\n",
    "import torch\n",
    "import argparse\n",
    "import inspect\n",
    "\n",
    "# Append Path to Custom Modules\n",
    "sys.path.append(path_custom_modules)\n",
    "\n",
    "# Custom Modules\n",
    "from src.models import llm_multiclass\n",
    "from src.utils import (RecursiveNamespace,\n",
    "                       seed_everything,\n",
    "                       load_cfg,\n",
    "                       RunIDs)\n",
    "from src.dataloading.load_data import LoadData\n",
    "from src.dataloading.stratify import StratifyData\n",
    "from src.dataloading.preprocess import PreprocessData\n",
    "from src.dataloading.load_datasets import (TrainDataset,\n",
    "                                           CustomTextCollator,\n",
    "                                           )\n",
    "\n",
    "# Allow HF tokenizer parallelism\n",
    "os.environ['TOKENIZERS_PARALLELISM'] = 'True'\n",
    "os.environ['TRANSFORMERS_NO_ADVISORY_WARNINGS'] = 'true'"
   ]
  },
  {
   "cell_type": "code",
   "execution_count": 18,
   "metadata": {},
   "outputs": [],
   "source": [
    "# Load the configuration file\n",
    "CFG = load_cfg(base_dir=Path(path_cfg['base_dir']),\n",
    "               filename=path_cfg['filename'])\n",
    "\n",
    "# Set random seed on everything\n",
    "seed_everything(seed=CFG.seed)\n",
    "\n",
    "# Get Device type for processing (CPU/GPU)\n",
    "DEVICE = torch.device('cuda' if torch.cuda.is_available() else 'cpu')"
   ]
  },
  {
   "cell_type": "code",
   "execution_count": 19,
   "metadata": {},
   "outputs": [
    {
     "name": "stdout",
     "output_type": "stream",
     "text": [
      "Group ID: d1c63d73\n",
      "ID for Testing Fold #1: b92a9cce\n",
      "\tFull/Entire ID: d1c63d73-b92a9cce\n",
      "ID for Testing Fold #2: e76b6ba5\n",
      "\tFull/Entire ID: d1c63d73-e76b6ba5\n",
      "ID for Testing Fold #3: 178cb679\n",
      "\tFull/Entire ID: d1c63d73-178cb679\n",
      "ID for Testing Fold #4: 55d1d519\n",
      "\tFull/Entire ID: d1c63d73-55d1d519\n",
      "ID for Testing Fold #5: d3da6f3b\n",
      "\tFull/Entire ID: d1c63d73-d3da6f3b\n"
     ]
    }
   ],
   "source": [
    "# Group ID and ID for each fold tested\n",
    "run_ids = RunIDs(test_folds=CFG.cv.val_folds,\n",
    "                 num_folds=CFG.cv.num_folds)\n",
    "run_ids.generate_run_ids()\n",
    "\n",
    "# Print the group id and ids for each fold\n",
    "print(f'Group ID: {run_ids.group_id}')\n",
    "for fold_num in CFG.cv.val_folds:\n",
    "    fold_id = getattr(run_ids.folds_id,\n",
    "                      f'fold{fold_num}').run_id\n",
    "    entire_id = f'{run_ids.group_id}-{fold_id}' \n",
    "    print((f'ID for Testing Fold #{fold_num}: '\n",
    "           f'{fold_id}\\n\\tFull/Entire ID: {entire_id}'))"
   ]
  },
  {
   "cell_type": "code",
   "execution_count": 20,
   "metadata": {},
   "outputs": [],
   "source": [
    "# Load Data from Disk\n",
    "load_data_file = LoadData(base_dir=CFG.paths.data.base_dir)\n",
    "if CFG.debug:\n",
    "    data = load_data_file.load(filename=CFG.paths.data.debug_data)\n",
    "else:\n",
    "    data = load_data_file.load(filename=CFG.paths.data.data)\n"
   ]
  },
  {
   "cell_type": "code",
   "execution_count": 21,
   "metadata": {},
   "outputs": [
    {
     "data": {
      "text/html": [
       "<div>\n",
       "<style scoped>\n",
       "    .dataframe tbody tr th:only-of-type {\n",
       "        vertical-align: middle;\n",
       "    }\n",
       "\n",
       "    .dataframe tbody tr th {\n",
       "        vertical-align: top;\n",
       "    }\n",
       "\n",
       "    .dataframe thead th {\n",
       "        text-align: right;\n",
       "    }\n",
       "</style>\n",
       "<table border=\"1\" class=\"dataframe\">\n",
       "  <thead>\n",
       "    <tr style=\"text-align: right;\">\n",
       "      <th></th>\n",
       "      <th>Consumer complaint narrative</th>\n",
       "      <th>Issue</th>\n",
       "      <th>Sub-issue</th>\n",
       "      <th>Product</th>\n",
       "      <th>fold</th>\n",
       "    </tr>\n",
       "  </thead>\n",
       "  <tbody>\n",
       "    <tr>\n",
       "      <th>0</th>\n",
       "      <td>I AM A VICTIM OF IDENTITY THEFT. There were ac...</td>\n",
       "      <td>Problem with a credit reporting company's inve...</td>\n",
       "      <td>Their investigation did not fix an error on yo...</td>\n",
       "      <td>Credit reporting, credit repair services, or o...</td>\n",
       "      <td>1</td>\n",
       "    </tr>\n",
       "    <tr>\n",
       "      <th>1</th>\n",
       "      <td>Send Company a validation of debt communicatio...</td>\n",
       "      <td>Written notification about debt</td>\n",
       "      <td>Didn't receive enough information to verify debt</td>\n",
       "      <td>Debt collection</td>\n",
       "      <td>1</td>\n",
       "    </tr>\n",
       "    <tr>\n",
       "      <th>2</th>\n",
       "      <td>There are many mistakes appear in my report wi...</td>\n",
       "      <td>Incorrect information on your report</td>\n",
       "      <td>Account information incorrect</td>\n",
       "      <td>Credit reporting, credit repair services, or o...</td>\n",
       "      <td>1</td>\n",
       "    </tr>\n",
       "    <tr>\n",
       "      <th>3</th>\n",
       "      <td>On XX/XX/2019, I paid {$1600.00} on my card en...</td>\n",
       "      <td>Trouble using your card</td>\n",
       "      <td>Credit card company won't increase or decrease...</td>\n",
       "      <td>Credit card or prepaid card</td>\n",
       "      <td>1</td>\n",
       "    </tr>\n",
       "    <tr>\n",
       "      <th>4</th>\n",
       "      <td>I had money from the VA that was due to me sin...</td>\n",
       "      <td>Dealing with your lender or servicer</td>\n",
       "      <td>Trouble with how payments are being handled</td>\n",
       "      <td>Student loan</td>\n",
       "      <td>1</td>\n",
       "    </tr>\n",
       "  </tbody>\n",
       "</table>\n",
       "</div>"
      ],
      "text/plain": [
       "                        Consumer complaint narrative  \\\n",
       "0  I AM A VICTIM OF IDENTITY THEFT. There were ac...   \n",
       "1  Send Company a validation of debt communicatio...   \n",
       "2  There are many mistakes appear in my report wi...   \n",
       "3  On XX/XX/2019, I paid {$1600.00} on my card en...   \n",
       "4  I had money from the VA that was due to me sin...   \n",
       "\n",
       "                                               Issue  \\\n",
       "0  Problem with a credit reporting company's inve...   \n",
       "1                    Written notification about debt   \n",
       "2               Incorrect information on your report   \n",
       "3                            Trouble using your card   \n",
       "4               Dealing with your lender or servicer   \n",
       "\n",
       "                                           Sub-issue  \\\n",
       "0  Their investigation did not fix an error on yo...   \n",
       "1   Didn't receive enough information to verify debt   \n",
       "2                      Account information incorrect   \n",
       "3  Credit card company won't increase or decrease...   \n",
       "4        Trouble with how payments are being handled   \n",
       "\n",
       "                                             Product  fold  \n",
       "0  Credit reporting, credit repair services, or o...     1  \n",
       "1                                    Debt collection     1  \n",
       "2  Credit reporting, credit repair services, or o...     1  \n",
       "3                        Credit card or prepaid card     1  \n",
       "4                                       Student loan     1  "
      ]
     },
     "metadata": {},
     "output_type": "display_data"
    },
    {
     "name": "stdout",
     "output_type": "stream",
     "text": [
      "Distribution of a Product for Each Fold\n",
      "Notice how the quantities are evenly distributed across folds\n"
     ]
    },
    {
     "data": {
      "text/plain": [
       "Product                      fold\n",
       "Credit card or prepaid card  1       200\n",
       "                             2       200\n",
       "                             3       200\n",
       "                             4       200\n",
       "                             5       200\n",
       "Name: count, dtype: int64"
      ]
     },
     "metadata": {},
     "output_type": "display_data"
    }
   ],
   "source": [
    "# Stratify the Data\n",
    "data = (StratifyData(technique=CFG.stratify.technique,\n",
    "                     n_folds=CFG.cv.num_folds,\n",
    "                     target=CFG.data_info.target)\n",
    "            .stratify(df=data))\n",
    "cols = CFG.data_info.source_fields + \\\n",
    "       [CFG.data_info.target, 'fold']\n",
    "\n",
    "# Number of classes for downstream use\n",
    "N_CLASSES = data[CFG.data_info.target].nunique()\n",
    "\n",
    "# Print information\n",
    "display(data[cols].head(5))\n",
    "print(f'Distribution of a Product for Each Fold')\n",
    "print(f'Notice how the quantities are evenly distributed across folds')\n",
    "display(data.groupby('Product').fold.value_counts()\n",
    "        .sort_index().head(5))"
   ]
  },
  {
   "cell_type": "markdown",
   "metadata": {},
   "source": [
    "# Start looping over folds here"
   ]
  },
  {
   "cell_type": "code",
   "execution_count": 22,
   "metadata": {},
   "outputs": [
    {
     "name": "stdout",
     "output_type": "stream",
     "text": [
      "Train Number of Instances: 3,200\n",
      "Validation Number of Instances: 800\n"
     ]
    }
   ],
   "source": [
    "from torch.utils.data import DataLoader\n",
    "# Train a model for each validation fold\n",
    "fold_num = CFG.cv.val_folds[0]\n",
    "\n",
    "# Split Data into Training and Validation\n",
    "df_train = data.copy()[data.fold != fold_num].reset_index(drop=True)\n",
    "df_val = data.copy()[data.fold == fold_num].reset_index(drop=True)\n",
    "print(f'Train Number of Instances: {len(df_train):,}')\n",
    "print(f'Validation Number of Instances: {len(df_val):,}')"
   ]
  },
  {
   "cell_type": "markdown",
   "metadata": {},
   "source": [
    "# Preprocess Target\n",
    "\n",
    "Convert the text target into a label."
   ]
  },
  {
   "cell_type": "code",
   "execution_count": 23,
   "metadata": {},
   "outputs": [],
   "source": [
    "# Preprocessing Encoders\n",
    "encoders = {}\n",
    "for technique in CFG.preprocessing.apply_techniques:\n",
    "    fields = getattr(CFG.preprocessing, technique).fields\n",
    "    for col in fields:\n",
    "        enc = PreprocessData(y=df_train[col].values,\n",
    "                             technique=technique)\n",
    "        encoders[col] = {'encoder': enc.encoder,\n",
    "                         'technique': technique}"
   ]
  },
  {
   "cell_type": "markdown",
   "metadata": {},
   "source": [
    "# Tokenizer and Collator\n",
    "\n",
    "A collator is an object that forms a batch of data by using a list of dataset elements as inputs. A custom text collator is used here and it has several benefits such as:\n",
    "- the data does **NOT** have to be tokenizer prior to being passed to the PyTorch DataLoader class. This means the text data is tokenized once a batch of data is processed in in the DataLoader class and it allows for RAM usage to stay lower. For example, if your dataset exceeds the available RAM size then tokenizing all the data prior to the DataLoader (e.g., in the Dataset class) it will become problematic.\n",
    "- This enables dynamic padding over the batches. Later the maximum token length for a few batches will be printed to illustrate the dynamic padding. This ultimately leads to faster processing of data as explain in this [HuggingFace YouTube video](https://www.youtube.com/watch?v=7q5NyFT8REg).\n",
    "\n"
   ]
  },
  {
   "cell_type": "code",
   "execution_count": 24,
   "metadata": {},
   "outputs": [],
   "source": [
    "from transformers import AutoTokenizer, DataCollatorWithPadding\n",
    "# Path to the model and tokenizer model card saved on disk\n",
    "model_path = Path(CFG.model_tokenizer.base_dir) / CFG.model_tokenizer.name\n",
    "\n",
    "# Load the tokenizer\n",
    "tokenizer = AutoTokenizer.from_pretrained(model_path, do_lower=True)\n",
    "\n",
    "# Collator\n",
    "collator = CustomTextCollator(tokenizer=tokenizer,\n",
    "                              tokenizer_cfg=CFG.tokenizer)"
   ]
  },
  {
   "cell_type": "markdown",
   "metadata": {},
   "source": [
    "## Combine all mix-data type fields\n",
    "\n",
    "In this [blob post by Chris McCormick](https://mccormickml.com/2021/06/29/combining-categorical-numerical-features-with-bert/) an interesting approach was taken to combine mixed data types which was to convert all categorical and numerical into the text feed into the LLM. This repository will try this technique ingle string that will be processed by the LLM. \n",
    "\n",
    "Another approach is only pass the unstructured text into the LLM, take its last layer output and combine with the other mixed data types into a dense layer. This type of approach seems more common and an example can be found on [Google Colab here](https://colab.research.google.com/drive/1F7COnwHqcLDPg_SS-oFgW3c2GPDWnS5Y#scrollTo=BAQFbN-wBpoz)."
   ]
  },
  {
   "cell_type": "code",
   "execution_count": 25,
   "metadata": {},
   "outputs": [
    {
     "name": "stdout",
     "output_type": "stream",
     "text": [
      "# of Training Samples: 3,200\n",
      "# of Validation Samples: 800\n",
      "Batch Size: 16\n",
      "3,200 \\ 16 = 200\n",
      "Train DataLoader # of Iters: 200\n",
      "Val. DataLoader # of Iters: 50\n",
      "\n",
      "Dynamic Padding\n",
      "\tThe shape is [batch size, maximum token length]\n",
      "Batch 1 of 200: torch.Size([16, 512])\n",
      "Batch 2 of 200: torch.Size([16, 400])\n",
      "Batch 3 of 200: torch.Size([16, 512])\n",
      "Batch 4 of 200: torch.Size([16, 512])\n",
      "Batch 5 of 200: torch.Size([16, 416])\n",
      "Batch 6 of 200: torch.Size([16, 512])\n",
      "Batch 7 of 200: torch.Size([16, 512])\n",
      "Batch 8 of 200: torch.Size([16, 512])\n",
      "Batch 9 of 200: torch.Size([16, 512])\n",
      "Batch 10 of 200: torch.Size([16, 487])\n",
      "Batch 11 of 200: torch.Size([16, 457])\n"
     ]
    }
   ],
   "source": [
    "# Train Dataset and Dataloader\n",
    "train_dataset = TrainDataset(df=df_train,\n",
    "                             tok=tokenizer,\n",
    "                             tok_cfg=CFG.tokenizer,\n",
    "                             X_cols=CFG.data_info.source_fields,\n",
    "                             label=CFG.data_info.target,\n",
    "                             encoder=encoders[CFG.data_info.target]['encoder'])\n",
    "train_dataloader = DataLoader(train_dataset,\n",
    "                              batch_size=CFG.batch_size,\n",
    "                              collate_fn=collator,\n",
    "                              shuffle=True,\n",
    "                              num_workers=CFG.num_workers,\n",
    "                              pin_memory=True,\n",
    "                              )\n",
    "\n",
    "# Validation Dataset and Dataloader\n",
    "val_dataset = TrainDataset(df=df_val,\n",
    "                           tok=tokenizer,\n",
    "                           tok_cfg=CFG.tokenizer,\n",
    "                           X_cols=CFG.data_info.source_fields,\n",
    "                           label=CFG.data_info.target,\n",
    "                           encoder=encoders[CFG.data_info.target]['encoder'])\n",
    "val_dataloader = DataLoader(val_dataset,\n",
    "                            batch_size=CFG.batch_size,\n",
    "                            collate_fn=collator,\n",
    "                            shuffle=True,\n",
    "                            num_workers=CFG.num_workers,\n",
    "                            pin_memory=True,\n",
    "                            )\n",
    "\n",
    "# Total number of steps/iterations\n",
    "total_steps = CFG.epochs * len(train_dataloader)\n",
    "\n",
    "print(f'# of Training Samples: {len(df_train):,}')\n",
    "print(f'# of Validation Samples: {len(df_val):,}')\n",
    "print(f'Batch Size: {CFG.batch_size}')\n",
    "print(f'{len(df_train):,} \\ {CFG.batch_size:,} = {len(train_dataloader):,}')\n",
    "print(f'Train DataLoader # of Iters: {len(train_dataloader):,}')\n",
    "print(f'Val. DataLoader # of Iters: {len(val_dataloader):,}')\n",
    "\n",
    "# Dynamic Padding of Maximum Token Lengths\n",
    "print(f'\\nDynamic Padding\\n\\tThe shape is [batch size, maximum token length]')\n",
    "for i, inputs in enumerate(train_dataloader):\n",
    "    if i > 10:\n",
    "        break\n",
    "    else:\n",
    "        print((f'Batch {i + 1} of {len(train_dataloader):,}: '\n",
    "               f'{inputs[\"input_ids\"].shape}'))"
   ]
  },
  {
   "cell_type": "markdown",
   "metadata": {},
   "source": [
    "# Load the Model\n",
    "\n",
    "- Generic HF info. on Bert: [HuggingFace Bert](https://huggingface.co/docs/transformers/model_doc/bert)\n",
    "- HF Model Card for: [bert-base-uncased](https://huggingface.co/bert-base-uncased)"
   ]
  },
  {
   "cell_type": "code",
   "execution_count": 26,
   "metadata": {},
   "outputs": [
    {
     "name": "stdout",
     "output_type": "stream",
     "text": [
      "Tue Jul 25 21:07:05 2023       \n",
      "+-----------------------------------------------------------------------------+\n",
      "| NVIDIA-SMI 520.61.05    Driver Version: 520.61.05    CUDA Version: 11.8     |\n",
      "|-------------------------------+----------------------+----------------------+\n",
      "| GPU  Name        Persistence-M| Bus-Id        Disp.A | Volatile Uncorr. ECC |\n",
      "| Fan  Temp  Perf  Pwr:Usage/Cap|         Memory-Usage | GPU-Util  Compute M. |\n",
      "|                               |                      |               MIG M. |\n",
      "|===============================+======================+======================|\n",
      "|   0  NVIDIA GeForce ...  On   | 00000000:01:00.0 Off |                  N/A |\n",
      "|  0%   55C    P2   110W / 350W |   1715MiB / 24576MiB |      0%      Default |\n",
      "|                               |                      |                  N/A |\n",
      "+-------------------------------+----------------------+----------------------+\n",
      "                                                                               \n",
      "+-----------------------------------------------------------------------------+\n",
      "| Processes:                                                                  |\n",
      "|  GPU   GI   CI        PID   Type   Process name                  GPU Memory |\n",
      "|        ID   ID                                                   Usage      |\n",
      "|=============================================================================|\n",
      "|    0   N/A  N/A      9603      C   ...orch-LLM/.venv/bin/python     1712MiB |\n",
      "+-----------------------------------------------------------------------------+\n"
     ]
    }
   ],
   "source": [
    "from src.models.llm_multiclass import CustomModel\n",
    "# Load custom model\n",
    "model = CustomModel(llm_model_path=model_path,\n",
    "                    cfg=CFG.model,\n",
    "                    num_classes=N_CLASSES)\n",
    "\n",
    "# Set model on device\n",
    "model.to(DEVICE)\n",
    "!nvidia-smi"
   ]
  },
  {
   "cell_type": "markdown",
   "metadata": {},
   "source": [
    "## Optimizer"
   ]
  },
  {
   "cell_type": "code",
   "execution_count": 27,
   "metadata": {},
   "outputs": [],
   "source": [
    "from src.training.optimizers import get_optimizer\n",
    "# Optimizer\n",
    "optimizer = get_optimizer(cfg=CFG.optimizer,\n",
    "                          model=model)"
   ]
  },
  {
   "cell_type": "markdown",
   "metadata": {},
   "source": [
    "# Learning Rate Finder\n",
    "\n",
    "A [PyTorch implementation](https://pypi.org/project/torch-lr-finder/) of the learning rate range test detailed in Cyclical Learning Rates for Training Neural Networks by Leslie N. Smith and the tweaked version used by fastai."
   ]
  },
  {
   "cell_type": "code",
   "execution_count": 28,
   "metadata": {},
   "outputs": [],
   "source": [
    "# from torch_lr_finder import LRFinder, TrainDataLoaderIter\n",
    "# from torch import nn\n",
    "\n",
    "# class TrainIter(TrainDataLoaderIter):\n",
    "#     def inputs_labels_from_batch(self, batch):\n",
    "#         return ({'input_ids': batch['input_ids'],\n",
    "#                  'attention_mask': batch['attention_mask']},\n",
    "#                 batch['labels'])\n",
    "# train_data_iter = TrainIter(train_dataloader)\n",
    "\n",
    "# # Learning Rate Finder\n",
    "# lr_finder = LRFinder(model,\n",
    "#                      torch.optim.AdamW(model.parameters(), lr=1.0E-7),\n",
    "#                      nn.CrossEntropyLoss(),\n",
    "#                      device=\"cuda\")\n",
    "# lr_finder.range_test(train_data_iter,\n",
    "#                      end_lr=0.2,\n",
    "#                      num_iter=100,\n",
    "#                      step_mode=\"linear\")\n",
    "# lr_finder.plot(log_lr=False)\n",
    "# lr_finder.reset()"
   ]
  },
  {
   "cell_type": "markdown",
   "metadata": {},
   "source": [
    "# Learning Rate Scheduler\n",
    "\n",
    "Learning rate schedulers can be used to help an algorithm converge to a more optimal solution. Please refer to this references for more information and a visual representation of various learning rate schedules.\n",
    " - [Medium Article](https://towardsdatascience.com/a-visual-guide-to-learning-rate-schedulers-in-pytorch-24bbb262c863)\n",
    " - [Kaggle Notebook](https://www.kaggle.com/code/isbhargav/guide-to-pytorch-learning-rate-scheduling)"
   ]
  },
  {
   "cell_type": "code",
   "execution_count": 29,
   "metadata": {},
   "outputs": [
    {
     "data": {
      "image/png": "[encoded data removed]",
      "text/plain": [
       "<Figure size 640x480 with 1 Axes>"
      ]
     },
     "metadata": {},
     "output_type": "display_data"
    }
   ],
   "source": [
    "from torch.optim.lr_scheduler import CosineAnnealingLR, OneCycleLR\n",
    "import matplotlib.pyplot as plt\n",
    "import gc\n",
    "# Learning rate scheduler\n",
    "# scheduler = OneCycleLR(optimizer=optimizer,\n",
    "#                        total_steps=total_steps,\n",
    "#                        max_lr=CFG.optimizer.lr.max)\n",
    "\n",
    "scheduler = CosineAnnealingLR(optimizer,\n",
    "                              T_max=total_steps,\n",
    "                              eta_min=CFG.optimizer.lr.min)\n",
    "lr_value = []\n",
    "steps = []\n",
    "step_count = 0\n",
    "for epoch in range(CFG.epochs):\n",
    "    for batch_count in range(len(train_dataloader)):\n",
    "        optimizer.step()\n",
    "        lr_value.append(optimizer.param_groups[0]['lr'])\n",
    "        steps.append(step_count)\n",
    "        scheduler.step()\n",
    "        step_count +=1\n",
    "\n",
    "# Re-establish optimizer and scheduler since they were called\n",
    "del optimizer, scheduler\n",
    "_ = gc.collect()\n",
    "\n",
    "# Optimizer\n",
    "optimizer = get_optimizer(cfg=CFG.optimizer,\n",
    "                          model=model)\n",
    "\n",
    "# Learning rate scheduler\n",
    "# scheduler = OneCycleLR(optimizer=optimizer,\n",
    "#                        total_steps=total_steps,\n",
    "#                        max_lr=CFG.optimizer.lr.max,\n",
    "#                        pct_start=CFG.lr_scheduler.pct_start)\n",
    "scheduler = CosineAnnealingLR(optimizer,\n",
    "                              T_max=total_steps,\n",
    "                              eta_min=CFG.optimizer.lr.max)\n",
    "\n",
    "# Plot Learning Rate Schedule\n",
    "plt.plot(steps, lr_value)\n",
    "plt.xlabel('Steps')\n",
    "plt.ylabel('Learning Rate')\n",
    "plt.show()"
   ]
  },
  {
   "cell_type": "markdown",
   "metadata": {},
   "source": [
    "# Training\n",
    "\n",
    "### Loss Functions References\n",
    "- [Machine Learning Mastery](https://machinelearningmastery.com/how-to-choose-loss-functions-when-training-deep-learning-neural-networks/)\n",
    "- [Neptune AI Article](https://neptune.ai/blog/pytorch-loss-functions)\n",
    "- [PyTorch Loss Functions](https://pytorch.org/docs/stable/nn.html#loss-functions)\n",
    "\n",
    "Since this is a multi-class classification we can use nn.CrossEntropyLoss as the loss function. More elborate modules can be built for selecting and creating custom loss functions.\n",
    "\n",
    "### Performance Metrics\n",
    "\n",
    "[TorchMetrics](https://torchmetrics.readthedocs.io/en/latest/) will be used for implementing performance metrics.\n",
    "- [F1-Score](https://torchmetrics.readthedocs.io/en/stable/classification/f1_score.html)\n",
    "- [Precision]()\n",
    "- [Recall]()"
   ]
  },
  {
   "cell_type": "code",
   "execution_count": 30,
   "metadata": {},
   "outputs": [],
   "source": [
    "# # # # # idx=0\n",
    "# # batch = next(iter(train_dataloader))\n",
    "# X = {'input_ids': batch['input_ids'].to(DEVICE),\n",
    "#     'attention_mask': batch['attention_mask'].to(DEVICE)}\n",
    "# y = batch['labels'].to(DEVICE)\n",
    "\n",
    "# # # # f1 = multiclass_f1_score(y_pred, y, num_classes=N_CLASSES)\n",
    "# # # # Model prediction\n",
    "# y_pred_logits = model(X)\n",
    "# # # y_pred = torch.softmax(y_pred_logits, axis=1)\n",
    "# # # f1_score = multiclass_f1_score(y_pred, y, num_classes=N_CLASSES)\n",
    "# # # f1_score\n",
    "# # # X\n",
    "# # y_pred_logits"
   ]
  },
  {
   "cell_type": "code",
   "execution_count": 31,
   "metadata": {},
   "outputs": [],
   "source": [
    "from sklearn.utils.class_weight import compute_class_weight\n",
    "import numpy as np\n",
    "\n",
    "#compute the class weights\n",
    "train_labels = encoders['Product']['encoder'].transform(df_train['Product'])\n",
    "class_wts = compute_class_weight('balanced',\n",
    "                                 classes=np.unique(train_labels),\n",
    "                                 y=train_labels)\n",
    "\n",
    "# convert class weights to tensor\n",
    "weights= torch.tensor(class_wts, dtype=torch.float)\n",
    "weights = weights.to(DEVICE)"
   ]
  },
  {
   "cell_type": "code",
   "execution_count": 32,
   "metadata": {},
   "outputs": [
    {
     "name": "stdout",
     "output_type": "stream",
     "text": [
      "\n",
      "Start Epoch 1\n"
     ]
    },
    {
     "name": "stderr",
     "output_type": "stream",
     "text": [
      "Epoch 0: 100%|██████████| 200/200 [01:04<00:00,  3.08batch/s, f1=0.249, loss=1.4937, precision=0.249, recall=0.249]"
     ]
    },
    {
     "name": "stdout",
     "output_type": "stream",
     "text": [
      "Epoch 1 Training Time: 0.0 hrs.\n"
     ]
    },
    {
     "name": "stderr",
     "output_type": "stream",
     "text": [
      "\n"
     ]
    }
   ],
   "source": [
    "import time\n",
    "from src.training.metrics import AverageMeter\n",
    "from tqdm import tqdm\n",
    "from torch import nn\n",
    "# from torchmetrics.classification import (MulticlassF1Score,\n",
    "#                                          MulticlassPrecision,\n",
    "#                                          MulticlassRecall)\n",
    "from torcheval.metrics.functional import (multiclass_f1_score,\n",
    "                                          multiclass_precision,\n",
    "                                          multiclass_recall)\n",
    "from torch.nn.functional import one_hot\n",
    "\n",
    "\n",
    "# Batch size\n",
    "batch_size = CFG.batch_size\n",
    "\n",
    "# Loss Function\n",
    "loss_fn = nn.CrossEntropyLoss(weight=weights)\n",
    "# loss_fn = nn.BCELoss()\n",
    "\n",
    "# # Performance metrics\n",
    "# f1 = MulticlassF1Score(num_classes=N_CLASSES).to(DEVICE)\n",
    "# precision = MulticlassPrecision(num_classes=N_CLASSES).to(DEVICE)\n",
    "# recall = MulticlassRecall(num_classes=N_CLASSES).to(DEVICE)\n",
    "\n",
    "# Training loop over epochs\n",
    "start_training_time = time.time()\n",
    "step_count = 0\n",
    "best_score = 0.0\n",
    "for epoch in range(CFG.epochs):\n",
    "    epoch_start_time = time.time()\n",
    "    print(f'\\nStart Epoch {epoch + 1}')\n",
    "    train_meters = {\n",
    "        'loss': AverageMeter(),\n",
    "        'f1': AverageMeter(),\n",
    "        'precision': AverageMeter(),\n",
    "        'recall': AverageMeter(),\n",
    "    }\n",
    "    model.train()\n",
    "    \n",
    "    # TRAINING\n",
    "    # Iterate over each batch in an epoch\n",
    "    # for idx, batch in enumerate(train_dataloader): [if you don't want a progress bar]\n",
    "    with tqdm(train_dataloader, unit='batch') as tepoch:\n",
    "        for batch in tepoch:\n",
    "            tepoch.set_description(f\"Epoch {epoch}\")\n",
    "            X = {'input_ids': batch['input_ids'].to(DEVICE),\n",
    "                'attention_mask': batch['attention_mask'].to(DEVICE)}\n",
    "            y = batch['labels'].to(DEVICE)\n",
    "            # y = one_hot(y, num_classes=N_CLASSES)\n",
    "\n",
    "            # Model prediction\n",
    "            # model.zero_grad()\n",
    "            optimizer.zero_grad()\n",
    "            y_pred_logits = model(X)\n",
    "            y_pred = torch.softmax(y_pred_logits, axis=1)\n",
    "            \n",
    "            # Calculate loss\n",
    "            loss = loss_fn(input=y_pred, target=y)\n",
    "            \n",
    "            # Backward pass, optimizer & scheduler steps\n",
    "            loss.backward()\n",
    "            optimizer.step()\n",
    "            scheduler.step()\n",
    "            \n",
    "            # Performance metrics for the batch of data\n",
    "            f1_score = multiclass_f1_score(y_pred, y, num_classes=N_CLASSES)\n",
    "            precision_score = multiclass_precision(y_pred, y, num_classes=N_CLASSES)\n",
    "            recall_score = multiclass_recall(y_pred, y, num_classes=N_CLASSES)\n",
    "            \n",
    "            # Store loss and performance metrics\n",
    "            train_meters['loss'].update(loss.detach().cpu().numpy(),\n",
    "                                        n=batch_size)\n",
    "            train_meters['f1'].update(f1_score.detach().cpu().numpy(),\n",
    "                                      n=batch_size)\n",
    "            train_meters['precision'].update(precision_score.detach().cpu().numpy(),\n",
    "                                             n=batch_size)  \n",
    "            train_meters['recall'].update(recall_score.detach().cpu().numpy(),\n",
    "                                          n=batch_size) \n",
    "\n",
    "            if step_count % 10 == 0:\n",
    "                tepoch.set_postfix(loss=f'{train_meters[\"loss\"].avg:.4f}',\n",
    "                                   f1=f'{train_meters[\"f1\"].avg:.3f}',\n",
    "                                   precision=f'{train_meters[\"precision\"].avg:.3f}',\n",
    "                                   recall=f'{train_meters[\"recall\"].avg:.3f}')\n",
    "            step_count += 1\n",
    "\n",
    "    # Print training time\n",
    "    print(f'Epoch {epoch + 1} Training Time: '\n",
    "            f'{(((time.time() - epoch_start_time) / 60) / 60):.1f} hrs.')\n",
    "    \n",
    "    # # VALIDATION\n",
    "    # val_meters = {\n",
    "    #     'loss': AverageMeter(),\n",
    "    #     'cos': AverageMeter(),\n",
    "    #     }\n",
    "    # model.eval()\n",
    "    # for X, y in dataloaders['val']:\n",
    "    #     X, y = X.to(device), y.to(device)\n",
    "\n",
    "    #     with torch.no_grad():\n",
    "    #         X_out = model(X)\n",
    "    #         target = torch.ones(X.size(0)).to(device)\n",
    "    #         loss = criterion(X_out, y, target)\n",
    "\n",
    "    #         val_loss = loss.item()\n",
    "    #         val_cos = cosine_similarity(\n",
    "    #             X_out.detach().cpu().numpy(), \n",
    "    #             y.detach().cpu().numpy()\n",
    "    #         )\n",
    "\n",
    "    #     val_meters['loss'].update(val_loss, n=X.size(0))\n",
    "    #     val_meters['cos'].update(val_cos, n=X.size(0))\n",
    "\n",
    "    # print('Epoch {:d} / val/loss={:.4f}, val/cos={:.4f}'.format(\n",
    "    #     epoch + 1,\n",
    "    #     val_meters['loss'].avg,\n",
    "    #     val_meters['cos'].avg))\n",
    "    \n",
    "\n",
    "    # # Save best model to disk\n",
    "    # if val_meters['cos'].avg > best_score:\n",
    "    #     best_score = val_meters['cos'].avg\n",
    "    #     torch.save(model.state_dict(), model_save_path)\n"
   ]
  },
  {
   "cell_type": "code",
   "execution_count": null,
   "metadata": {},
   "outputs": [],
   "source": []
  },
  {
   "cell_type": "code",
   "execution_count": null,
   "metadata": {},
   "outputs": [],
   "source": []
  }
 ],
 "metadata": {
  "kernelspec": {
   "display_name": ".venv",
   "language": "python",
   "name": "python3"
  },
  "language_info": {
   "codemirror_mode": {
    "name": "ipython",
    "version": 3
   },
   "file_extension": ".py",
   "mimetype": "text/x-python",
   "name": "python",
   "nbconvert_exporter": "python",
   "pygments_lexer": "ipython3",
   "version": "3.10.6"
  },
  "orig_nbformat": 4
 },
 "nbformat": 4,
 "nbformat_minor": 2
}
